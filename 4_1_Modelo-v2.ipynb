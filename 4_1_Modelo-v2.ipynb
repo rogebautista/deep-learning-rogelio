{
 "nbformat": 4,
 "nbformat_minor": 0,
 "metadata": {
  "colab": {
   "provenance": [],
   "authorship_tag": "ABX9TyO1eVZkBdvfuNf7E/kH7w22"
  },
  "kernelspec": {
   "name": "python3",
   "display_name": "Python 3"
  },
  "language_info": {
   "name": "python"
  },
  "accelerator": "TPU",
  "gpuClass": "standard"
 },
 "cells": [
  {
   "cell_type": "code",
   "execution_count": 1,
   "metadata": {
    "id": "tRKqT8eziSXW",
    "colab": {
     "base_uri": "https://localhost:8080/"
    },
    "executionInfo": {
     "status": "ok",
     "timestamp": 1676837112456,
     "user_tz": 360,
     "elapsed": 26832,
     "user": {
      "displayName": "Rogelio Bautista",
      "userId": "09685885284832322578"
     }
    },
    "outputId": "a5448d75-1ca8-449c-eba5-ea5fd7ceb8cb",
    "pycharm": {
     "name": "#%%\n"
    }
   },
   "outputs": [
    {
     "output_type": "stream",
     "name": "stdout",
     "text": [
      "Mounted at /content/drive\n"
     ]
    }
   ],
   "source": [
    "# Nos conectamos a nuestro conjunto de datos\n",
    "\n",
    "from google.colab import drive\n",
    "drive.mount('/content/drive')"
   ]
  },
  {
   "cell_type": "code",
   "source": [
    "import pandas as pd\n",
    "import numpy as np\n",
    "import seaborn as sns\n",
    "\n",
    "import matplotlib.pyplot as plt\n",
    "from matplotlib.colors import ListedColormap\n",
    "%matplotlib inline\n",
    "\n",
    "cm = plt.cm.RdBu\n",
    "cm_bright = ListedColormap(['#FF0000', '#0000FF'])\n",
    "\n",
    "import tensorflow as tf\n",
    "from tensorflow.keras.models import Sequential\n",
    "from sklearn.metrics import classification_report\n",
    "from tensorflow.keras.layers import Dense, Flatten, Input\n",
    "from tensorflow.keras.optimizers.legacy import SGD\n",
    "from tensorflow.keras.optimizers.legacy import Adam\n",
    "from sklearn.model_selection import train_test_split\n",
    "from sklearn.preprocessing import StandardScaler\n",
    "from tensorflow.keras import metrics \n",
    "from sklearn.metrics import mean_squared_error, mean_absolute_error, r2_score\n",
    "from tensorflow import keras\n"
   ],
   "metadata": {
    "id": "7z_XPaiFjfE-",
    "executionInfo": {
     "status": "ok",
     "timestamp": 1676837122611,
     "user_tz": 360,
     "elapsed": 6067,
     "user": {
      "displayName": "Rogelio Bautista",
      "userId": "09685885284832322578"
     }
    },
    "pycharm": {
     "name": "#%%\n"
    }
   },
   "execution_count": 2,
   "outputs": []
  },
  {
   "cell_type": "code",
   "source": [
    "# Check tensorflow version\n",
    "print(tf.__version__)"
   ],
   "metadata": {
    "colab": {
     "base_uri": "https://localhost:8080/"
    },
    "id": "qGYhb88oT9At",
    "executionInfo": {
     "status": "ok",
     "timestamp": 1676837129389,
     "user_tz": 360,
     "elapsed": 1081,
     "user": {
      "displayName": "Rogelio Bautista",
      "userId": "09685885284832322578"
     }
    },
    "outputId": "1178613c-1f47-4ed5-dcf0-2dade5413006",
    "pycharm": {
     "name": "#%%\n"
    }
   },
   "execution_count": 3,
   "outputs": [
    {
     "output_type": "stream",
     "name": "stdout",
     "text": [
      "2.11.0\n"
     ]
    }
   ]
  },
  {
   "cell_type": "code",
   "source": [
    "# Abrimos nuestros dataset para prepararlo\n",
    "df_train = pd.read_csv('./drive/MyDrive/deep-learning-rogelio/train_data.csv', sep=';', decimal='.')\n",
    "print(df_train.shape)\n",
    "\n",
    "df_test = pd.read_csv('./drive/MyDrive/deep-learning-rogelio/test_data.csv', sep=';', decimal='.')\n",
    "print(df_test.shape)"
   ],
   "metadata": {
    "id": "ni8HoWk8loa_",
    "colab": {
     "base_uri": "https://localhost:8080/"
    },
    "executionInfo": {
     "status": "ok",
     "timestamp": 1676837133232,
     "user_tz": 360,
     "elapsed": 6,
     "user": {
      "displayName": "Rogelio Bautista",
      "userId": "09685885284832322578"
     }
    },
    "outputId": "5144ed94-e140-448d-aa8e-ccaa39cb2567",
    "pycharm": {
     "name": "#%%\n"
    }
   },
   "execution_count": 4,
   "outputs": [
    {
     "output_type": "stream",
     "name": "stdout",
     "text": [
      "(750, 22)\n",
      "(250, 22)\n"
     ]
    }
   ]
  },
  {
   "cell_type": "code",
   "source": [
    "# Separamos x_train, y_train y convertimos a numpy\n",
    "x_train = df_train.drop('Price', axis=1).values\n",
    "y_train = df_train['Price'].values\n",
    "\n",
    "# Hacemos lo mismo con el conjunto de test\n",
    "x_test = df_test.drop('Price', axis=1).values\n",
    "y_test = df_test['Price'].values\n"
   ],
   "metadata": {
    "id": "lHz98LDGezZr",
    "executionInfo": {
     "status": "ok",
     "timestamp": 1676837136543,
     "user_tz": 360,
     "elapsed": 9,
     "user": {
      "displayName": "Rogelio Bautista",
      "userId": "09685885284832322578"
     }
    },
    "pycharm": {
     "name": "#%%\n"
    }
   },
   "execution_count": 5,
   "outputs": []
  },
  {
   "cell_type": "code",
   "source": [
    "# Normalizamos los datos\n",
    "#scaler = StandardScaler()\n",
    "##x_train = scaler.fit_transform(x_train)\n",
    "##x_test = scaler.transform(x_test)\n",
    "\n",
    "#scaler.fit(x_train)\n",
    "# Transform the training and validation data\n",
    "#x_train = scaler.transform(x_train)\n",
    "#x_test = scaler.transform(x_test)"
   ],
   "metadata": {
    "id": "tYzdquRcoeTl",
    "executionInfo": {
     "status": "ok",
     "timestamp": 1676829840303,
     "user_tz": 360,
     "elapsed": 5,
     "user": {
      "displayName": "Rogelio Bautista",
      "userId": "09685885284832322578"
     }
    },
    "pycharm": {
     "name": "#%%\n"
    }
   },
   "execution_count": 6,
   "outputs": []
  },
  {
   "cell_type": "code",
   "source": [
    "from sklearn.preprocessing import MinMaxScaler\n",
    "\n",
    "scaler = MinMaxScaler()\n",
    "scaler.fit(x_train)\n",
    "x_train = scaler.transform(x_train)\n",
    "x_test = scaler.transform(x_test)"
   ],
   "metadata": {
    "id": "xIVpNDESp6H6",
    "executionInfo": {
     "status": "ok",
     "timestamp": 1676837144510,
     "user_tz": 360,
     "elapsed": 1423,
     "user": {
      "displayName": "Rogelio Bautista",
      "userId": "09685885284832322578"
     }
    },
    "pycharm": {
     "name": "#%%\n"
    }
   },
   "execution_count": 6,
   "outputs": []
  },
  {
   "cell_type": "code",
   "source": [
    "x_tr, x_val, y_tr, y_val = train_test_split(x_train, y_train, test_size=0.1, random_state=42)"
   ],
   "metadata": {
    "id": "aCqYHmEuZxgO",
    "executionInfo": {
     "status": "ok",
     "timestamp": 1676837144512,
     "user_tz": 360,
     "elapsed": 9,
     "user": {
      "displayName": "Rogelio Bautista",
      "userId": "09685885284832322578"
     }
    },
    "pycharm": {
     "name": "#%%\n"
    }
   },
   "execution_count": 7,
   "outputs": []
  },
  {
   "cell_type": "code",
   "source": [
    "# Revisamos que no tengamos valores negativos\n",
    "min_vals = np.min(x_tr, axis=0)\n",
    "print('Minimum values in each column:')\n",
    "for i, val in enumerate(min_vals):\n",
    "    print(f'Column {i+1}: {val}')"
   ],
   "metadata": {
    "colab": {
     "base_uri": "https://localhost:8080/"
    },
    "id": "eiQTvVNBiwn0",
    "executionInfo": {
     "status": "ok",
     "timestamp": 1676837145411,
     "user_tz": 360,
     "elapsed": 9,
     "user": {
      "displayName": "Rogelio Bautista",
      "userId": "09685885284832322578"
     }
    },
    "outputId": "ce618ce7-b018-4f80-c4c2-56f947c061e3",
    "pycharm": {
     "name": "#%%\n"
    }
   },
   "execution_count": 8,
   "outputs": [
    {
     "output_type": "stream",
     "name": "stdout",
     "text": [
      "Minimum values in each column:\n",
      "Column 1: 0.0\n",
      "Column 2: 0.0\n",
      "Column 3: 0.0\n",
      "Column 4: 0.0\n",
      "Column 5: 0.0\n",
      "Column 6: 0.0\n",
      "Column 7: 0.0\n",
      "Column 8: 0.0\n",
      "Column 9: 0.0\n",
      "Column 10: 0.0\n",
      "Column 11: 0.0\n",
      "Column 12: 0.0\n",
      "Column 13: 0.0\n",
      "Column 14: 0.0\n",
      "Column 15: 0.0\n",
      "Column 16: 0.0\n",
      "Column 17: 0.0\n",
      "Column 18: 0.0\n",
      "Column 19: 0.0\n",
      "Column 20: 0.0\n",
      "Column 21: 0.0\n"
     ]
    }
   ]
  },
  {
   "cell_type": "code",
   "source": [
    "import matplotlib.gridspec as gridspec\n",
    "from tensorflow.keras.callbacks import EarlyStopping, ReduceLROnPlateau\n",
    "from tensorflow.keras.layers import Dropout\n",
    "\n",
    "# definimos la función para entrenar nuestra red con los parámetros deseados\n",
    "def train_deep_net(activation_function, learning_rate, lr_decay, batch_size, num_epochs):\n",
    "  \n",
    "  # Implementamos la red empleando Keras\n",
    "  model = Sequential() # Instancia de modelo API secuencial #(X)\n",
    "  model.add(Dense(64, activation=activation_function, name='mlp_dense_1', input_shape=(x_tr.shape[1],)))\n",
    "  model.add(Dropout(0.2, name='mlp_dropout_1',))\n",
    "  model.add(Dense(64, activation=activation_function, name='mlp_dense_2',))\n",
    "  model.add(Dropout(0.2, name='mlp_dropout_2',))\n",
    "  model.add(Dense(1, activation='linear', name='mlp_dense_3',)) \n",
    "  \n",
    "  # Create the callbacks\n",
    "  early_stopping = EarlyStopping(monitor='val_loss', patience=5, restore_best_weights=True)\n",
    "  reduce_lr = ReduceLROnPlateau(monitor='val_loss', factor=0.2, patience=3, min_lr=1e-6)\n",
    "\n",
    "  \n",
    "  # Compilamos el modelo\n",
    "  model.compile(\n",
    "      optimizer=Adam(learning_rate=learning_rate, decay=lr_decay), \n",
    "      loss='mse', \n",
    "      metrics=[metrics.MeanAbsoluteError(), metrics.MeanSquaredError(), metrics.RootMeanSquaredError(), metrics.Accuracy()]\n",
    "      ) #(X)\n",
    "  # Entrenamos el modelo\n",
    "  H = model.fit(x_tr, y_tr, \n",
    "                batch_size=batch_size, \n",
    "                epochs=num_epochs, \n",
    "                validation_data=(x_val, y_val), \n",
    "                callbacks=[early_stopping, reduce_lr], \n",
    "                verbose=0)\n",
    "  print(H.history)\n",
    "\n",
    "  # Evaluamos con test\n",
    "  y_pred = model.predict(x_test, batch_size=batch_size)\n",
    "\n",
    "  # Evaluate the performance of the model\n",
    "  mse = mean_squared_error(y_test, y_pred)\n",
    "  mae = mean_absolute_error(y_test, y_pred)\n",
    "  r2 = r2_score(y_test, y_pred)\n",
    "\n",
    "  # Print the evaluation metrics\n",
    "  print('Mean Squared Error (MSE):', mse)\n",
    "  print('Mean Absolute Error (MAE):', mae)\n",
    "  print('R-squared (R^2):', r2)\n",
    "\n",
    "  # Ploteamos para imprimir las metricas\n",
    "  fig = plt.figure(figsize=(12, 10))\n",
    "  gs = gridspec.GridSpec(nrows=2, ncols=2, figure=fig, hspace=0.5, wspace=0.2, height_ratios=[1, 1])\n",
    "\n",
    "  for i, metric in enumerate(['mean_absolute_error', 'mean_squared_error', 'root_mean_squared_error']):\n",
    "      row = i // 2\n",
    "      col = i % 2\n",
    "      ax = fig.add_subplot(gs[row, col])\n",
    "      ax.plot(H.history[metric], label='Training')\n",
    "      ax.plot(H.history['val_' + metric], label='Validation')\n",
    "      ax.set_title(metric)\n",
    "      ax.set_xlabel('Epoch')\n",
    "      ax.set_ylabel(metric)\n",
    "      ax.legend(loc='upper right')\n",
    "\n",
    "  # Add a subplot to show the accuracy over time\n",
    "  #ax = fig.add_subplot(gs[1, 1])\n",
    "  #ax.plot(H.history['accuracy'], label='Training')\n",
    "  #ax.plot(H.history['val_accuracy'], label='Validation')\n",
    "  #ax.set_title('Accuracy')\n",
    "  #ax.set_xlabel('Epoch')\n",
    "  #ax.set_ylabel('Accuracy')\n",
    "  #ax.legend(loc='upper right')\n",
    "  \n",
    "  # Add a horizontal line to the plot for the R2 score\n",
    "  plt.axhline(y=r2, color='k', linestyle='--', label='R2 score')\n",
    "  plt.suptitle('Training and Validation Metrics', fontsize=16, y=1.05)\n",
    "  plt.legend(loc='lower right')\n",
    "  plt.show()\n",
    "  # Guardamos el modelo, este modelo usaremos en la combinacion, en la segunda parte\n",
    "  model.save('model_ann_v1.h5')\n",
    "  !cp -r model_ann_v1.h5 /content/drive/My\\ Drive/deep-learning-rogelio/model_ann_v1.h5\n",
    "\n"
   ],
   "metadata": {
    "id": "aRUhK0Ddd-GF",
    "executionInfo": {
     "status": "ok",
     "timestamp": 1676837202383,
     "user_tz": 360,
     "elapsed": 13,
     "user": {
      "displayName": "Rogelio Bautista",
      "userId": "09685885284832322578"
     }
    },
    "pycharm": {
     "name": "#%%\n"
    }
   },
   "execution_count": 11,
   "outputs": []
  },
  {
   "cell_type": "code",
   "source": [
    "# Definimos los parámetros que queremos probar\n",
    "activation_functions = ['relu']\n",
    "learning_rates = [1e-3 ]\n",
    "lr_decays = [1e-3 / 200]\n",
    "batch_sizes = [128]\n",
    "num_epochs = 100\n",
    "# llama a la función para entrenar la red con los parámetros deseados\n",
    "results = {}\n",
    "for activation_function in activation_functions:\n",
    "    for learning_rate in learning_rates:\n",
    "        for lr_decay in lr_decays:\n",
    "            for batch_size in batch_sizes:\n",
    "                print(f'Entrenando con {activation_function}, {learning_rate}, {lr_decay}, {batch_size}')\n",
    "                train_deep_net(activation_function, learning_rate, lr_decay, batch_size, num_epochs)"
   ],
   "metadata": {
    "colab": {
     "base_uri": "https://localhost:8080/",
     "height": 855
    },
    "id": "XOrnLE_sNOZa",
    "executionInfo": {
     "status": "ok",
     "timestamp": 1676837212262,
     "user_tz": 360,
     "elapsed": 7501,
     "user": {
      "displayName": "Rogelio Bautista",
      "userId": "09685885284832322578"
     }
    },
    "outputId": "1f51630c-7e69-4d09-c478-c5088be05299",
    "pycharm": {
     "name": "#%%\n"
    }
   },
   "execution_count": 12,
   "outputs": [
    {
     "output_type": "stream",
     "name": "stdout",
     "text": [
      "Entrenando con relu, 0.001, 5e-06, 128\n",
      "{'loss': [7367.2724609375, 7304.30615234375, 7228.39990234375, 7145.2919921875, 7050.3076171875, 6904.30810546875, 6722.1015625, 6471.16943359375, 6194.5556640625, 5813.6083984375, 5355.173828125, 4874.255859375, 4331.2001953125, 3841.462890625, 3354.7470703125, 2938.3974609375, 2649.567138671875, 2482.037109375, 2425.158935546875, 2395.230224609375, 2254.172119140625, 2203.11083984375, 2254.646728515625, 2119.35009765625, 2122.607177734375, 2051.92578125, 2099.245361328125, 2073.354248046875, 1970.144775390625, 2015.344970703125, 1949.1898193359375, 1901.3885498046875, 1945.473876953125, 1886.5699462890625, 1836.716796875, 1884.9588623046875, 1866.8485107421875, 1848.181884765625, 1767.28515625, 1796.203369140625, 1797.373291015625, 1696.6217041015625, 1776.7557373046875, 1638.8599853515625, 1652.638916015625, 1650.9488525390625, 1711.70068359375, 1688.293701171875, 1672.936279296875, 1627.028564453125, 1609.0029296875, 1719.1959228515625, 1583.246826171875, 1600.04296875, 1619.2685546875, 1557.4810791015625, 1594.9176025390625, 1573.1715087890625, 1455.326904296875, 1468.82568359375, 1613.0068359375, 1454.6761474609375, 1485.7142333984375, 1431.36328125, 1467.0738525390625, 1543.609375, 1438.7000732421875, 1500.5706787109375, 1429.01953125, 1499.806884765625, 1504.226806640625, 1379.669921875, 1422.65087890625, 1439.4189453125, 1455.5706787109375, 1451.9718017578125, 1409.444580078125, 1379.3763427734375], 'mean_absolute_error': [64.66898345947266, 64.20891571044922, 63.68229293823242, 63.08122634887695, 62.33383560180664, 61.28770065307617, 59.91505813598633, 58.05265808105469, 55.760955810546875, 52.738956451416016, 48.81067657470703, 44.47676467895508, 39.78408432006836, 35.46910858154297, 32.28549575805664, 29.83124351501465, 29.116777420043945, 28.93955421447754, 30.032899856567383, 30.748695373535156, 30.267126083374023, 29.551406860351562, 29.87362289428711, 28.51793670654297, 27.87609100341797, 26.808788299560547, 26.898897171020508, 26.803007125854492, 25.891244888305664, 25.607969284057617, 25.64651107788086, 25.157424926757812, 25.710376739501953, 25.515743255615234, 24.682361602783203, 24.81769371032715, 24.596633911132812, 24.320554733276367, 23.467058181762695, 23.702707290649414, 23.23871612548828, 23.1395263671875, 23.65315818786621, 22.461889266967773, 22.943950653076172, 22.389789581298828, 22.351316452026367, 23.48833465576172, 22.53970718383789, 21.676071166992188, 22.542606353759766, 22.18673324584961, 21.351930618286133, 21.758602142333984, 22.098947525024414, 21.973587036132812, 21.802963256835938, 21.058008193969727, 20.57973289489746, 21.035560607910156, 21.928789138793945, 21.388477325439453, 21.17952537536621, 20.573379516601562, 21.122684478759766, 20.9349365234375, 20.404611587524414, 20.61685562133789, 19.87822914123535, 20.361467361450195, 20.736650466918945, 19.772775650024414, 20.46078109741211, 20.020858764648438, 20.07046890258789, 20.73320198059082, 20.71476936340332, 20.360553741455078], 'mean_squared_error': [7367.2724609375, 7304.30615234375, 7228.39990234375, 7145.2919921875, 7050.3076171875, 6904.30810546875, 6722.1015625, 6471.16943359375, 6194.5556640625, 5813.6083984375, 5355.173828125, 4874.255859375, 4331.2001953125, 3841.462890625, 3354.7470703125, 2938.3974609375, 2649.567138671875, 2482.037109375, 2425.158935546875, 2395.230224609375, 2254.172119140625, 2203.11083984375, 2254.646728515625, 2119.35009765625, 2122.607177734375, 2051.92578125, 2099.245361328125, 2073.354248046875, 1970.144775390625, 2015.344970703125, 1949.1898193359375, 1901.3885498046875, 1945.473876953125, 1886.5699462890625, 1836.716796875, 1884.9588623046875, 1866.8485107421875, 1848.181884765625, 1767.28515625, 1796.203369140625, 1797.373291015625, 1696.6217041015625, 1776.7557373046875, 1638.8599853515625, 1652.638916015625, 1650.9488525390625, 1711.70068359375, 1688.293701171875, 1672.936279296875, 1627.028564453125, 1609.0029296875, 1719.1959228515625, 1583.246826171875, 1600.04296875, 1619.2685546875, 1557.4810791015625, 1594.9176025390625, 1573.1715087890625, 1455.326904296875, 1468.82568359375, 1613.0068359375, 1454.6761474609375, 1485.7142333984375, 1431.36328125, 1467.0738525390625, 1543.609375, 1438.7000732421875, 1500.5706787109375, 1429.01953125, 1499.806884765625, 1504.226806640625, 1379.669921875, 1422.65087890625, 1439.4189453125, 1455.5706787109375, 1451.9718017578125, 1409.444580078125, 1379.3763427734375], 'root_mean_squared_error': [85.83281707763672, 85.4652328491211, 85.0199966430664, 84.52983093261719, 83.96611022949219, 83.0921630859375, 81.9884262084961, 80.4435806274414, 78.70549774169922, 76.24702453613281, 73.1790542602539, 69.81587219238281, 65.81185150146484, 61.97953796386719, 57.9201774597168, 54.20698547363281, 51.47394561767578, 49.820045471191406, 49.24590301513672, 48.94108963012695, 47.47812271118164, 46.93730926513672, 47.48311996459961, 46.036399841308594, 46.07176208496094, 45.298187255859375, 45.81752395629883, 45.53409957885742, 44.386314392089844, 44.89259338378906, 44.14963150024414, 43.604915618896484, 44.10752487182617, 43.434661865234375, 42.85693359375, 43.416114807128906, 43.2070426940918, 42.99048614501953, 42.03908920288086, 42.38164138793945, 42.39543914794922, 41.190067291259766, 42.151580810546875, 40.48283386230469, 40.65266036987305, 40.63187026977539, 41.372703552246094, 41.08885192871094, 40.90154266357422, 40.33644104003906, 40.11237716674805, 41.46318817138672, 39.790035247802734, 40.00053787231445, 40.240135192871094, 39.464935302734375, 39.93642044067383, 39.66322708129883, 38.148746490478516, 38.325260162353516, 40.16225814819336, 38.14021682739258, 38.54496383666992, 37.8333625793457, 38.302398681640625, 39.288795471191406, 37.930198669433594, 38.73720169067383, 37.80237579345703, 38.72734069824219, 38.78436279296875, 37.1439094543457, 37.71804428100586, 37.939674377441406, 38.15194320678711, 38.1047477722168, 37.542572021484375, 37.139957427978516], 'accuracy': [0.0, 0.0, 0.0, 0.0, 0.0, 0.0, 0.0, 0.0, 0.0, 0.0, 0.0, 0.0, 0.0, 0.0, 0.0, 0.0, 0.0, 0.0, 0.0, 0.0, 0.0, 0.0, 0.0, 0.0, 0.0, 0.0, 0.0, 0.0, 0.0, 0.0, 0.0, 0.0, 0.0, 0.0, 0.0, 0.0, 0.0, 0.0, 0.0, 0.0, 0.0, 0.0, 0.0, 0.0, 0.0, 0.0, 0.0, 0.0, 0.0, 0.0, 0.0, 0.0, 0.0, 0.0, 0.0, 0.0, 0.0, 0.0, 0.0, 0.0, 0.0, 0.0, 0.0, 0.0, 0.0, 0.0, 0.0, 0.0, 0.0, 0.0, 0.0, 0.0, 0.0, 0.0, 0.0, 0.0, 0.0, 0.0], 'val_loss': [5608.0205078125, 5542.048828125, 5467.92431640625, 5377.6513671875, 5262.205078125, 5108.5888671875, 4907.029296875, 4649.89501953125, 4326.658203125, 3945.169921875, 3508.8544921875, 3038.678466796875, 2562.5126953125, 2120.18359375, 1749.181884765625, 1484.9107666015625, 1326.39599609375, 1264.768798828125, 1249.4287109375, 1238.5889892578125, 1213.59130859375, 1177.9146728515625, 1133.237548828125, 1091.2191162109375, 1057.0460205078125, 1027.8714599609375, 1004.5039672851562, 979.1687622070312, 959.0545654296875, 941.6581420898438, 927.8731079101562, 915.6607055664062, 897.552001953125, 877.6906127929688, 866.0507202148438, 852.2560424804688, 834.04150390625, 811.9554443359375, 795.2953491210938, 789.652587890625, 780.9224243164062, 769.1875610351562, 762.1984252929688, 756.6383056640625, 747.5225219726562, 735.6416625976562, 733.573486328125, 728.492919921875, 708.6419067382812, 695.5939331054688, 680.8209838867188, 673.443359375, 670.7803344726562, 674.6201171875, 681.7263793945312, 667.3177490234375, 650.1866455078125, 635.9354248046875, 632.0648803710938, 633.4461059570312, 630.0659790039062, 625.6416015625, 619.6968994140625, 608.3694458007812, 604.0332641601562, 599.7546997070312, 604.0628662109375, 598.0480346679688, 586.1094970703125, 576.9555053710938, 569.3338012695312, 566.5357055664062, 565.58251953125, 569.85498046875, 587.4229736328125, 578.685546875, 574.8023681640625, 569.8465576171875], 'val_mean_absolute_error': [60.7672119140625, 60.2621955871582, 59.69417953491211, 58.989158630371094, 58.0673713684082, 56.83903503417969, 55.19990158081055, 53.047142028808594, 50.21004104614258, 46.65205383300781, 42.28323745727539, 37.47945785522461, 32.716609954833984, 28.39044189453125, 25.437095642089844, 23.903955459594727, 24.29657745361328, 25.524166107177734, 26.980728149414062, 27.744144439697266, 27.764915466308594, 27.32952880859375, 26.446226119995117, 25.457866668701172, 24.767738342285156, 24.266569137573242, 24.039382934570312, 23.52337074279785, 23.348915100097656, 23.252395629882812, 23.298906326293945, 23.372272491455078, 23.126441955566406, 22.764875411987305, 22.73068618774414, 22.54534339904785, 22.199283599853516, 21.6290225982666, 21.228271484375, 21.35753631591797, 21.267297744750977, 21.029077529907227, 20.97504997253418, 20.983983993530273, 20.834503173828125, 20.545503616333008, 20.614362716674805, 20.57158660888672, 19.997180938720703, 19.648109436035156, 19.223934173583984, 19.08832359313965, 19.137836456298828, 19.374357223510742, 19.679309844970703, 19.30987548828125, 18.831716537475586, 18.398719787597656, 18.358274459838867, 18.540048599243164, 18.525550842285156, 18.464570999145508, 18.33012580871582, 18.01666259765625, 17.944778442382812, 17.871849060058594, 18.065248489379883, 17.92578887939453, 17.63117790222168, 17.389074325561523, 17.170970916748047, 17.12937355041504, 17.14010238647461, 17.298913955688477, 17.72271728515625, 17.525480270385742, 17.437164306640625, 17.318496704101562], 'val_mean_squared_error': [5608.0205078125, 5542.048828125, 5467.92431640625, 5377.6513671875, 5262.205078125, 5108.5888671875, 4907.029296875, 4649.89501953125, 4326.658203125, 3945.169921875, 3508.8544921875, 3038.678466796875, 2562.5126953125, 2120.18359375, 1749.181884765625, 1484.9107666015625, 1326.39599609375, 1264.768798828125, 1249.4287109375, 1238.5889892578125, 1213.59130859375, 1177.9146728515625, 1133.237548828125, 1091.2191162109375, 1057.0460205078125, 1027.8714599609375, 1004.5039672851562, 979.1687622070312, 959.0545654296875, 941.6581420898438, 927.8731079101562, 915.6607055664062, 897.552001953125, 877.6906127929688, 866.0507202148438, 852.2560424804688, 834.04150390625, 811.9554443359375, 795.2953491210938, 789.652587890625, 780.9224243164062, 769.1875610351562, 762.1984252929688, 756.6383056640625, 747.5225219726562, 735.6416625976562, 733.573486328125, 728.492919921875, 708.6419067382812, 695.5939331054688, 680.8209838867188, 673.443359375, 670.7803344726562, 674.6201171875, 681.7263793945312, 667.3177490234375, 650.1866455078125, 635.9354248046875, 632.0648803710938, 633.4461059570312, 630.0659790039062, 625.6416015625, 619.6968994140625, 608.3694458007812, 604.0332641601562, 599.7546997070312, 604.0628662109375, 598.0480346679688, 586.1094970703125, 576.9555053710938, 569.3338012695312, 566.5357055664062, 565.58251953125, 569.85498046875, 587.4229736328125, 578.685546875, 574.8023681640625, 569.8465576171875], 'val_root_mean_squared_error': [74.88671875, 74.44493865966797, 73.9454116821289, 73.33247375488281, 72.54106140136719, 71.47439575195312, 70.0501937866211, 68.19013977050781, 65.77733612060547, 62.81058883666992, 59.2355842590332, 55.124210357666016, 50.62126541137695, 46.04545211791992, 41.82322311401367, 38.53453826904297, 36.41971969604492, 35.5635871887207, 35.347259521484375, 35.1935920715332, 34.83663558959961, 34.320762634277344, 33.66359329223633, 33.033607482910156, 32.512245178222656, 32.0604362487793, 31.693910598754883, 31.291671752929688, 30.96860694885254, 30.68644905090332, 30.461009979248047, 30.259885787963867, 29.95917320251465, 29.625843048095703, 29.428739547729492, 29.193424224853516, 28.879776000976562, 28.494831085205078, 28.20098114013672, 28.100757598876953, 27.944990158081055, 27.734230041503906, 27.607940673828125, 27.50705909729004, 27.340858459472656, 27.12271499633789, 27.084562301635742, 26.99060821533203, 26.620328903198242, 26.374114990234375, 26.092546463012695, 25.950786590576172, 25.89942741394043, 25.97344970703125, 26.10988998413086, 25.832494735717773, 25.49875831604004, 25.21776008605957, 25.140899658203125, 25.16835594177246, 25.10111427307129, 25.012828826904297, 24.893712997436523, 24.665145874023438, 24.57708740234375, 24.48988914489746, 24.57769012451172, 24.455020904541016, 24.209697723388672, 24.0198974609375, 23.860715866088867, 23.802011489868164, 23.781978607177734, 23.87163543701172, 24.2368106842041, 24.055883407592773, 23.97503662109375, 23.8714599609375], 'val_accuracy': [0.0, 0.0, 0.0, 0.0, 0.0, 0.0, 0.0, 0.0, 0.0, 0.0, 0.0, 0.0, 0.0, 0.0, 0.0, 0.0, 0.0, 0.0, 0.0, 0.0, 0.0, 0.0, 0.0, 0.0, 0.0, 0.0, 0.0, 0.0, 0.0, 0.0, 0.0, 0.0, 0.0, 0.0, 0.0, 0.0, 0.0, 0.0, 0.0, 0.0, 0.0, 0.0, 0.0, 0.0, 0.0, 0.0, 0.0, 0.0, 0.0, 0.0, 0.0, 0.0, 0.0, 0.0, 0.0, 0.0, 0.0, 0.0, 0.0, 0.0, 0.0, 0.0, 0.0, 0.0, 0.0, 0.0, 0.0, 0.0, 0.0, 0.0, 0.0, 0.0, 0.0, 0.0, 0.0, 0.0, 0.0, 0.0], 'lr': [0.001, 0.001, 0.001, 0.001, 0.001, 0.001, 0.001, 0.001, 0.001, 0.001, 0.001, 0.001, 0.001, 0.001, 0.001, 0.001, 0.001, 0.001, 0.001, 0.001, 0.001, 0.001, 0.001, 0.001, 0.001, 0.001, 0.001, 0.001, 0.001, 0.001, 0.001, 0.001, 0.001, 0.001, 0.001, 0.001, 0.001, 0.001, 0.001, 0.001, 0.001, 0.001, 0.001, 0.001, 0.001, 0.001, 0.001, 0.001, 0.001, 0.001, 0.001, 0.001, 0.001, 0.001, 0.001, 0.001, 0.001, 0.001, 0.001, 0.001, 0.001, 0.001, 0.001, 0.001, 0.001, 0.001, 0.001, 0.001, 0.001, 0.001, 0.001, 0.001, 0.001, 0.001, 0.001, 0.001, 0.00020000001, 0.00020000001]}\n",
      "2/2 [==============================] - 0s 4ms/step\n",
      "Mean Squared Error (MSE): 694.8651006331941\n",
      "Mean Absolute Error (MAE): 16.735151779174803\n",
      "R-squared (R^2): 0.5730576768625888\n"
     ]
    },
    {
     "output_type": "display_data",
     "data": {
      "text/plain": [
       "<Figure size 864x720 with 3 Axes>"
      ],
      "image/png": "[encoded data removed]"
     },
     "metadata": {
      "needs_background": "light"
     }
    }
   ]
  }
 ]
}