{
 "cells": [
  {
   "cell_type": "code",
   "execution_count": null,
   "metadata": {
    "collapsed": true,
    "pycharm": {
     "name": "#%%\n"
    },
    "colab": {
     "base_uri": "https://localhost:8080/"
    },
    "id": "aduem84fmxTF",
    "executionInfo": {
     "status": "ok",
     "timestamp": 1676583613452,
     "user_tz": 360,
     "elapsed": 1809,
     "user": {
      "displayName": "Rogelio Bautista",
      "userId": "09685885284832322578"
     }
    },
    "outputId": "0e372fb3-a112-4890-8cb2-81ef2150abba"
   },
   "outputs": [
    {
     "output_type": "stream",
     "name": "stdout",
     "text": [
      "Drive already mounted at /content/drive; to attempt to forcibly remount, call drive.mount(\"/content/drive\", force_remount=True).\n"
     ]
    }
   ],
   "source": [
    "# Nos conectamos a nuestro conjunto de datos\n",
    "\n",
    "from google.colab import drive\n",
    "drive.mount('/content/drive')"
   ]
  },
  {
   "cell_type": "code",
   "execution_count": null,
   "outputs": [
    {
     "output_type": "stream",
     "name": "stdout",
     "text": [
      "Looking in indexes: https://pypi.org/simple, https://us-python.pkg.dev/colab-wheels/public/simple/\n",
      "Requirement already satisfied: bayesian-optimization in /usr/local/lib/python3.8/dist-packages (1.4.2)\n",
      "Requirement already satisfied: numpy>=1.9.0 in /usr/local/lib/python3.8/dist-packages (from bayesian-optimization) (1.21.6)\n",
      "Requirement already satisfied: scipy>=1.0.0 in /usr/local/lib/python3.8/dist-packages (from bayesian-optimization) (1.7.3)\n",
      "Requirement already satisfied: scikit-learn>=0.18.0 in /usr/local/lib/python3.8/dist-packages (from bayesian-optimization) (1.0.2)\n",
      "Requirement already satisfied: colorama>=0.4.6 in /usr/local/lib/python3.8/dist-packages (from bayesian-optimization) (0.4.6)\n",
      "Requirement already satisfied: joblib>=0.11 in /usr/local/lib/python3.8/dist-packages (from scikit-learn>=0.18.0->bayesian-optimization) (1.2.0)\n",
      "Requirement already satisfied: threadpoolctl>=2.0.0 in /usr/local/lib/python3.8/dist-packages (from scikit-learn>=0.18.0->bayesian-optimization) (3.1.0)\n"
     ]
    }
   ],
   "source": [
    "import pandas as pd\n",
    "import numpy as np\n",
    "import seaborn as sns\n",
    "\n",
    "import matplotlib.pyplot as plt\n",
    "from matplotlib.colors import ListedColormap\n",
    "%matplotlib inline\n",
    "\n",
    "cm = plt.cm.RdBu\n",
    "cm_bright = ListedColormap(['#FF0000', '#0000FF'])\n",
    "\n",
    "import tensorflow as tf\n",
    "from tensorflow.keras.models import Sequential\n",
    "from sklearn.metrics import classification_report\n",
    "from tensorflow.keras.layers import Dense, Flatten, Input\n",
    "from tensorflow.keras.optimizers.legacy import SGD\n",
    "from tensorflow.keras.optimizers.legacy import Adam\n",
    "from sklearn.model_selection import train_test_split\n",
    "from sklearn.preprocessing import StandardScaler\n",
    "from tensorflow.keras import metrics\n",
    "from sklearn.metrics import mean_squared_error, mean_absolute_error, r2_score\n",
    "\n",
    "# optimizador de la red por medio de Bayessian Optimization\n",
    "!pip install bayesian-optimization\n",
    "from bayes_opt import BayesianOptimization\n"
   ],
   "metadata": {
    "pycharm": {
     "name": "#%%\n"
    },
    "colab": {
     "base_uri": "https://localhost:8080/"
    },
    "id": "wzJubDfymxTK",
    "executionInfo": {
     "status": "ok",
     "timestamp": 1676583620946,
     "user_tz": 360,
     "elapsed": 7274,
     "user": {
      "displayName": "Rogelio Bautista",
      "userId": "09685885284832322578"
     }
    },
    "outputId": "c5b1bda2-c849-4b4a-b717-8a02234fd2a5"
   }
  },
  {
   "cell_type": "code",
   "source": [
    "# Check tensorflow version\n",
    "print(tf.__version__)"
   ],
   "metadata": {
    "colab": {
     "base_uri": "https://localhost:8080/"
    },
    "id": "dpU64cQxn6xt",
    "executionInfo": {
     "status": "ok",
     "timestamp": 1676583626620,
     "user_tz": 360,
     "elapsed": 5,
     "user": {
      "displayName": "Rogelio Bautista",
      "userId": "09685885284832322578"
     }
    },
    "outputId": "0b47dbff-299b-475c-a9d6-d18aebf57f11",
    "pycharm": {
     "name": "#%%\n"
    }
   },
   "execution_count": null,
   "outputs": [
    {
     "output_type": "stream",
     "name": "stdout",
     "text": [
      "2.11.0\n"
     ]
    }
   ]
  },
  {
   "cell_type": "code",
   "execution_count": null,
   "outputs": [
    {
     "output_type": "stream",
     "name": "stdout",
     "text": [
      "(750, 22)\n",
      "(250, 22)\n",
      "(750, 224, 224, 3)\n",
      "(250, 224, 224, 3)\n"
     ]
    }
   ],
   "source": [
    "# Abrimos nuestros dataset para prepararlo\n",
    "df_train = pd.read_csv('./drive/MyDrive/deep-learning-rogelio/train_data.csv', sep=';', decimal='.')\n",
    "print(df_train.shape)\n",
    "\n",
    "df_test = pd.read_csv('./drive/MyDrive/deep-learning-rogelio/test_data.csv', sep=';', decimal='.')\n",
    "print(df_test.shape)\n",
    "\n",
    "# Vamos a abrir las imágenes\n",
    "trainImagesX = np.load(\"./drive/MyDrive/deep-learning-rogelio/trainImagesX.npy\")\n",
    "print(trainImagesX.shape)\n",
    "\n",
    "# Abrimos las imagenes de test\n",
    "testImagesX = np.load(\"./drive/MyDrive/deep-learning-rogelio/testImagesX.npy\")\n",
    "print(testImagesX.shape)\n"
   ],
   "metadata": {
    "pycharm": {
     "name": "#%%\n"
    },
    "colab": {
     "base_uri": "https://localhost:8080/"
    },
    "id": "GAH5EkjamxTO",
    "executionInfo": {
     "status": "ok",
     "timestamp": 1676583626927,
     "user_tz": 360,
     "elapsed": 5,
     "user": {
      "displayName": "Rogelio Bautista",
      "userId": "09685885284832322578"
     }
    },
    "outputId": "6d468dcc-86d2-4e02-920e-af683921263d"
   }
  },
  {
   "cell_type": "code",
   "source": [
    "for image in trainImagesX:\n",
    "    if image.shape >= (224, 224, 4):\n",
    "        print(image.shape)\n",
    "        plt.imshow(image)\n",
    "        plt.show()"
   ],
   "metadata": {
    "id": "19cWCS7qqelu",
    "pycharm": {
     "name": "#%%\n"
    }
   },
   "execution_count": null,
   "outputs": []
  },
  {
   "cell_type": "code",
   "execution_count": null,
   "outputs": [],
   "source": [
    "#from sklearn.preprocessing import MinMaxScaler\n",
    "## Escalamos las imagenes\n",
    "#scaler = MinMaxScaler()\n",
    "#x_train_images = scaler.fit_transform(trainImagesX)\n",
    "#x_test_images = scaler.fit_transform(testImagesX)"
   ],
   "metadata": {
    "pycharm": {
     "name": "#%%\n"
    },
    "id": "CBU-5IXqmxTT"
   }
  },
  {
   "cell_type": "code",
   "source": [
    "x_train_images = trainImagesX / 255\n",
    "x_test_images = testImagesX / 255"
   ],
   "metadata": {
    "id": "bgGYix7CsBZo",
    "pycharm": {
     "name": "#%%\n"
    }
   },
   "execution_count": null,
   "outputs": []
  },
  {
   "cell_type": "code",
   "execution_count": null,
   "outputs": [],
   "source": [
    "# Hacemos el split de train y test para las imágenes y los atributos\n",
    "# Lo hacemos con el dataframe completo, aún no separamos los valores\n",
    "\n",
    "split = train_test_split(df_train, x_train_images, test_size=0.1, random_state=42)\n",
    "(trainAttrX, valAttrX, trainImagesX, valImagesX) = split"
   ],
   "metadata": {
    "pycharm": {
     "name": "#%%\n"
    },
    "id": "_eQOgDM-mxTV"
   }
  },
  {
   "cell_type": "code",
   "execution_count": null,
   "outputs": [],
   "source": [
    "# Separamos x_train, y_train y convertimos a numpy\n",
    "x_train = trainAttrX.drop(['Price'], axis=1).values\n",
    "y_train = trainAttrX['Price'].values\n",
    "\n",
    "x_val = valAttrX.drop(['Price'], axis=1).values\n",
    "y_val = valAttrX['Price'].values\n",
    "\n",
    "# Separamos x_test, y_test y convertimos a numpy\n",
    "x_test = df_test.drop(['Price'], axis=1).values\n",
    "y_test = df_test['Price'].values"
   ],
   "metadata": {
    "pycharm": {
     "name": "#%%\n"
    },
    "id": "St6lb9zemxTX"
   }
  },
  {
   "cell_type": "code",
   "execution_count": null,
   "outputs": [],
   "source": [
    "from sklearn.preprocessing import MinMaxScaler\n",
    "# Create the scaler object\n",
    "scaler = MinMaxScaler()\n",
    "\n",
    "# Fit the scaler to the training data\n",
    "scaler.fit(x_train)\n",
    "\n",
    "# Transform the training and test data\n",
    "x_train = scaler.transform(x_train)\n",
    "x_test = scaler.transform(x_test)\n",
    "x_val = scaler.transform(x_val)"
   ],
   "metadata": {
    "pycharm": {
     "name": "#%%\n"
    },
    "id": "YmY23ez1mxTa"
   }
  },
  {
   "cell_type": "code",
   "execution_count": null,
   "outputs": [],
   "source": [
    "# x_tr, x_val, y_tr, y_val = train_test_split(x_train, y_train, test_size=0.1, random_state=42)"
   ],
   "metadata": {
    "pycharm": {
     "name": "#%%\n"
    },
    "id": "hzrQlHFWmxTb"
   }
  },
  {
   "cell_type": "markdown",
   "source": [
    "### Aquí intentamos probar la arquitectura del blog, como una forma diferente de hacer una red convolucional"
   ],
   "metadata": {
    "collapsed": false,
    "pycharm": {
     "name": "#%% md\n"
    }
   }
  },
  {
   "cell_type": "code",
   "execution_count": null,
   "outputs": [],
   "source": [
    "import numpy as np\n",
    "import tensorflow as tf\n",
    "from tensorflow.keras.models import Sequential\n",
    "from sklearn.metrics import classification_report\n",
    "from tensorflow.keras.layers import Dense, Flatten, Input, Dropout, Conv2D, Activation, BatchNormalization, MaxPooling2D\n",
    "from tensorflow.keras import optimizers, Model\n",
    "from tensorflow.keras.optimizers import SGD\n",
    "import matplotlib.pyplot as plt\n",
    "import locale\n",
    "from matplotlib import image as mpimg\n",
    "import matplotlib.gridspec as gridspec\n",
    "from tensorflow.keras.callbacks import EarlyStopping, ReduceLROnPlateau\n",
    "from tensorflow.keras.layers import Dropout\n",
    "from tensorflow.keras.utils import plot_model\n",
    "\n",
    "\n",
    "\n",
    "def train_deep_net(width, height, depth, filters=(32, 32, 64, 128, 128, 64, 64), regress=False):\n",
    "    # initialize the input shape and channel dimension, assuming\n",
    "    # TensorFlow/channels-last ordering\n",
    "    inputShape = (height, width, depth)\n",
    "    chanDim = -1\n",
    "\n",
    "    # define the model input\n",
    "    inputs = Input(shape=inputShape)\n",
    "\n",
    "    # loop over the number of filters\n",
    "    for (i, f) in enumerate(filters):\n",
    "        # if this is the first CONV layer then set the input\n",
    "        # appropriately\n",
    "        if i == 0:\n",
    "            x = inputs\n",
    "\n",
    "        # CONV => RELU => BN => POOL\n",
    "        x = Conv2D(f, (3, 3), padding=\"same\")(x)\n",
    "        x = Activation(\"relu\")(x)\n",
    "        x = BatchNormalization(axis=chanDim)(x)\n",
    "        x = MaxPooling2D(pool_size=(2, 2))(x)\n",
    "\n",
    "    # flatten the volume, then FC => RELU => BN => DROPOUT\n",
    "    x = Flatten()(x)\n",
    "    x = Dense(16)(x)\n",
    "    x = Activation(\"relu\")(x)\n",
    "    x = BatchNormalization(axis=chanDim)(x)\n",
    "    x = Dropout(0.5)(x)\n",
    "\n",
    "    # apply another FC layer, this one to match the number of nodes\n",
    "    # coming out of the MLP\n",
    "    x = Dense(16)(x)\n",
    "    x = Activation(\"relu\")(x)\n",
    "\n",
    "    # check to see if the regression node should be added\n",
    "    if regress:\n",
    "        x = Dense(1, activation=\"linear\")(x)\n",
    "\n",
    "    # construct the CNN\n",
    "    model = Model(inputs, x)\n",
    "\n",
    "    # return the CNN\n",
    "    return model\n"
   ],
   "metadata": {
    "pycharm": {
     "name": "#%%\n"
    },
    "id": "9RZ6_lKimxTe"
   }
  },
  {
   "cell_type": "code",
   "execution_count": null,
   "outputs": [
    {
     "output_type": "stream",
     "name": "stdout",
     "text": [
      "Model: \"model\"\n",
      "_________________________________________________________________\n",
      " Layer (type)                Output Shape              Param #   \n",
      "=================================================================\n",
      " input_1 (InputLayer)        [(None, 224, 224, 3)]     0         \n",
      "                                                                 \n",
      " conv2d (Conv2D)             (None, 224, 224, 32)      896       \n",
      "                                                                 \n",
      " activation (Activation)     (None, 224, 224, 32)      0         \n",
      "                                                                 \n",
      " batch_normalization (BatchN  (None, 224, 224, 32)     128       \n",
      " ormalization)                                                   \n",
      "                                                                 \n",
      " max_pooling2d (MaxPooling2D  (None, 112, 112, 32)     0         \n",
      " )                                                               \n",
      "                                                                 \n",
      " conv2d_1 (Conv2D)           (None, 112, 112, 32)      9248      \n",
      "                                                                 \n",
      " activation_1 (Activation)   (None, 112, 112, 32)      0         \n",
      "                                                                 \n",
      " batch_normalization_1 (Batc  (None, 112, 112, 32)     128       \n",
      " hNormalization)                                                 \n",
      "                                                                 \n",
      " max_pooling2d_1 (MaxPooling  (None, 56, 56, 32)       0         \n",
      " 2D)                                                             \n",
      "                                                                 \n",
      " conv2d_2 (Conv2D)           (None, 56, 56, 64)        18496     \n",
      "                                                                 \n",
      " activation_2 (Activation)   (None, 56, 56, 64)        0         \n",
      "                                                                 \n",
      " batch_normalization_2 (Batc  (None, 56, 56, 64)       256       \n",
      " hNormalization)                                                 \n",
      "                                                                 \n",
      " max_pooling2d_2 (MaxPooling  (None, 28, 28, 64)       0         \n",
      " 2D)                                                             \n",
      "                                                                 \n",
      " conv2d_3 (Conv2D)           (None, 28, 28, 128)       73856     \n",
      "                                                                 \n",
      " activation_3 (Activation)   (None, 28, 28, 128)       0         \n",
      "                                                                 \n",
      " batch_normalization_3 (Batc  (None, 28, 28, 128)      512       \n",
      " hNormalization)                                                 \n",
      "                                                                 \n",
      " max_pooling2d_3 (MaxPooling  (None, 14, 14, 128)      0         \n",
      " 2D)                                                             \n",
      "                                                                 \n",
      " conv2d_4 (Conv2D)           (None, 14, 14, 128)       147584    \n",
      "                                                                 \n",
      " activation_4 (Activation)   (None, 14, 14, 128)       0         \n",
      "                                                                 \n",
      " batch_normalization_4 (Batc  (None, 14, 14, 128)      512       \n",
      " hNormalization)                                                 \n",
      "                                                                 \n",
      " max_pooling2d_4 (MaxPooling  (None, 7, 7, 128)        0         \n",
      " 2D)                                                             \n",
      "                                                                 \n",
      " conv2d_5 (Conv2D)           (None, 7, 7, 64)          73792     \n",
      "                                                                 \n",
      " activation_5 (Activation)   (None, 7, 7, 64)          0         \n",
      "                                                                 \n",
      " batch_normalization_5 (Batc  (None, 7, 7, 64)         256       \n",
      " hNormalization)                                                 \n",
      "                                                                 \n",
      " max_pooling2d_5 (MaxPooling  (None, 3, 3, 64)         0         \n",
      " 2D)                                                             \n",
      "                                                                 \n",
      " conv2d_6 (Conv2D)           (None, 3, 3, 64)          36928     \n",
      "                                                                 \n",
      " activation_6 (Activation)   (None, 3, 3, 64)          0         \n",
      "                                                                 \n",
      " batch_normalization_6 (Batc  (None, 3, 3, 64)         256       \n",
      " hNormalization)                                                 \n",
      "                                                                 \n",
      " max_pooling2d_6 (MaxPooling  (None, 1, 1, 64)         0         \n",
      " 2D)                                                             \n",
      "                                                                 \n",
      " flatten (Flatten)           (None, 64)                0         \n",
      "                                                                 \n",
      " dense (Dense)               (None, 16)                1040      \n",
      "                                                                 \n",
      " activation_7 (Activation)   (None, 16)                0         \n",
      "                                                                 \n",
      " batch_normalization_7 (Batc  (None, 16)               64        \n",
      " hNormalization)                                                 \n",
      "                                                                 \n",
      " dropout (Dropout)           (None, 16)                0         \n",
      "                                                                 \n",
      " dense_1 (Dense)             (None, 16)                272       \n",
      "                                                                 \n",
      " activation_8 (Activation)   (None, 16)                0         \n",
      "                                                                 \n",
      " dense_2 (Dense)             (None, 1)                 17        \n",
      "                                                                 \n",
      "=================================================================\n",
      "Total params: 364,241\n",
      "Trainable params: 363,185\n",
      "Non-trainable params: 1,056\n",
      "_________________________________________________________________\n"
     ]
    }
   ],
   "source": [
    "# initialize the number of epochs to train for, initial learning rate,\n",
    "# and batch size\n",
    "EPOCHS = 200\n",
    "INIT_LR = 1e-3\n",
    "BS = 128\n",
    "\n",
    "early_stopping = EarlyStopping(monitor='val_loss', patience=5, restore_best_weights=True)\n",
    "reduce_lr = ReduceLROnPlateau(monitor='val_loss', factor=0.2, patience=3, min_lr=1e-6)\n",
    "\n",
    "\n",
    "model = train_deep_net(width=224, height=224, depth=3, regress=True)\n",
    "opt = Adam(learning_rate=INIT_LR, decay=INIT_LR / EPOCHS)\n",
    "model.compile(loss=\"mse\", \n",
    "              optimizer=opt, metrics=[metrics.MeanAbsoluteError(), \n",
    "                                      metrics.MeanSquaredError(), \n",
    "                                      metrics.RootMeanSquaredError(), \n",
    "                                      metrics.Accuracy()])\n",
    "\n",
    "model.summary()"
   ],
   "metadata": {
    "pycharm": {
     "name": "#%%\n"
    },
    "id": "Y-M7qSd5mxTh",
    "executionInfo": {
     "status": "ok",
     "timestamp": 1676583640434,
     "user_tz": 360,
     "elapsed": 845,
     "user": {
      "displayName": "Rogelio Bautista",
      "userId": "09685885284832322578"
     }
    },
    "colab": {
     "base_uri": "https://localhost:8080/"
    },
    "outputId": "2bab3745-05b2-4760-b1ee-a5595f1dc367"
   }
  },
  {
   "cell_type": "code",
   "execution_count": null,
   "outputs": [
    {
     "output_type": "stream",
     "name": "stdout",
     "text": [
      "[INFO] training model...\n",
      "Epoch 1/200\n",
      "6/6 [==============================] - 8s 492ms/step - loss: 7484.1489 - mean_absolute_error: 65.6210 - mean_squared_error: 7484.1489 - root_mean_squared_error: 86.5110 - accuracy: 0.0000e+00 - val_loss: 5679.0981 - val_mean_absolute_error: 61.3168 - val_mean_squared_error: 5679.0981 - val_root_mean_squared_error: 75.3598 - val_accuracy: 0.0000e+00 - lr: 0.0010\n",
      "Epoch 2/200\n",
      "6/6 [==============================] - 1s 188ms/step - loss: 7416.7139 - mean_absolute_error: 65.2095 - mean_squared_error: 7416.7139 - root_mean_squared_error: 86.1203 - accuracy: 0.0000e+00 - val_loss: 5667.8311 - val_mean_absolute_error: 61.2322 - val_mean_squared_error: 5667.8311 - val_root_mean_squared_error: 75.2850 - val_accuracy: 0.0000e+00 - lr: 0.0010\n",
      "Epoch 3/200\n",
      "6/6 [==============================] - 1s 190ms/step - loss: 7384.0874 - mean_absolute_error: 65.0344 - mean_squared_error: 7384.0874 - root_mean_squared_error: 85.9307 - accuracy: 0.0000e+00 - val_loss: 5641.9741 - val_mean_absolute_error: 61.0288 - val_mean_squared_error: 5641.9741 - val_root_mean_squared_error: 75.1131 - val_accuracy: 0.0000e+00 - lr: 0.0010\n",
      "Epoch 4/200\n",
      "6/6 [==============================] - 1s 189ms/step - loss: 7368.6445 - mean_absolute_error: 64.9199 - mean_squared_error: 7368.6445 - root_mean_squared_error: 85.8408 - accuracy: 0.0000e+00 - val_loss: 5626.2285 - val_mean_absolute_error: 60.9021 - val_mean_squared_error: 5626.2285 - val_root_mean_squared_error: 75.0082 - val_accuracy: 0.0000e+00 - lr: 0.0010\n",
      "Epoch 5/200\n",
      "6/6 [==============================] - 1s 188ms/step - loss: 7346.1147 - mean_absolute_error: 64.7785 - mean_squared_error: 7346.1147 - root_mean_squared_error: 85.7095 - accuracy: 0.0000e+00 - val_loss: 5616.7344 - val_mean_absolute_error: 60.8310 - val_mean_squared_error: 5616.7344 - val_root_mean_squared_error: 74.9449 - val_accuracy: 0.0000e+00 - lr: 0.0010\n",
      "Epoch 6/200\n",
      "6/6 [==============================] - 1s 184ms/step - loss: 7319.2676 - mean_absolute_error: 64.5833 - mean_squared_error: 7319.2676 - root_mean_squared_error: 85.5527 - accuracy: 0.0000e+00 - val_loss: 5633.1313 - val_mean_absolute_error: 60.9821 - val_mean_squared_error: 5633.1313 - val_root_mean_squared_error: 75.0542 - val_accuracy: 0.0000e+00 - lr: 0.0010\n",
      "Epoch 7/200\n",
      "6/6 [==============================] - 1s 184ms/step - loss: 7291.5933 - mean_absolute_error: 64.4236 - mean_squared_error: 7291.5933 - root_mean_squared_error: 85.3908 - accuracy: 0.0000e+00 - val_loss: 5684.5156 - val_mean_absolute_error: 61.4044 - val_mean_squared_error: 5684.5156 - val_root_mean_squared_error: 75.3957 - val_accuracy: 0.0000e+00 - lr: 0.0010\n",
      "Epoch 8/200\n",
      "6/6 [==============================] - 1s 187ms/step - loss: 7265.2490 - mean_absolute_error: 64.2854 - mean_squared_error: 7265.2490 - root_mean_squared_error: 85.2364 - accuracy: 0.0000e+00 - val_loss: 5678.2573 - val_mean_absolute_error: 61.3571 - val_mean_squared_error: 5678.2573 - val_root_mean_squared_error: 75.3542 - val_accuracy: 0.0000e+00 - lr: 0.0010\n",
      "Epoch 9/200\n",
      "6/6 [==============================] - 1s 186ms/step - loss: 7245.0713 - mean_absolute_error: 64.1579 - mean_squared_error: 7245.0713 - root_mean_squared_error: 85.1180 - accuracy: 0.0000e+00 - val_loss: 5705.8901 - val_mean_absolute_error: 61.5794 - val_mean_squared_error: 5705.8901 - val_root_mean_squared_error: 75.5373 - val_accuracy: 0.0000e+00 - lr: 2.0000e-04\n",
      "Epoch 10/200\n",
      "6/6 [==============================] - 1s 192ms/step - loss: 7241.6113 - mean_absolute_error: 64.1526 - mean_squared_error: 7241.6113 - root_mean_squared_error: 85.0977 - accuracy: 0.0000e+00 - val_loss: 5738.6948 - val_mean_absolute_error: 61.8259 - val_mean_squared_error: 5738.6948 - val_root_mean_squared_error: 75.7542 - val_accuracy: 0.0000e+00 - lr: 2.0000e-04\n"
     ]
    }
   ],
   "source": [
    "# train the model\n",
    "print(\"[INFO] training model...\")\n",
    "history = model.fit(trainImagesX, y_train,\n",
    "                    validation_data=(valImagesX, y_val),\n",
    "                    epochs=EPOCHS,\n",
    "                    batch_size=BS,\n",
    "                    callbacks=[early_stopping, reduce_lr])\n",
    "\n"
   ],
   "metadata": {
    "pycharm": {
     "name": "#%%\n"
    },
    "colab": {
     "base_uri": "https://localhost:8080/"
    },
    "id": "AHJiClnmmxTi",
    "executionInfo": {
     "status": "ok",
     "timestamp": 1676583660561,
     "user_tz": 360,
     "elapsed": 18576,
     "user": {
      "displayName": "Rogelio Bautista",
      "userId": "09685885284832322578"
     }
    },
    "outputId": "a0770675-722c-43a1-d220-5c86e5553f3b"
   }
  },
  {
   "cell_type": "code",
   "source": [
    "with open('./history.txt', 'w') as f:\n",
    "  f.write(str(history.history))\n",
    "!cp history.txt /content/drive/My\\ Drive/deep-learning-rogelio/history.txt"
   ],
   "metadata": {
    "id": "fLVc9X9qx92g",
    "pycharm": {
     "name": "#%%\n"
    }
   },
   "execution_count": null,
   "outputs": []
  },
  {
   "cell_type": "code",
   "execution_count": null,
   "outputs": [
    {
     "output_type": "stream",
     "name": "stdout",
     "text": [
      "[INFO] evaluating network...\n",
      "8/8 [==============================] - 0s 19ms/step\n",
      "Mean Squared Error (MSE): 5279.0451758053605\n",
      "Mean Absolute Error (MAE): 60.436313441753384\n",
      "R-squared (R^2): -2.243576068580607\n",
      "[INFO] avg. house price: $64.59, std house price: $55.36\n",
      "[INFO] mean: 99.02%, std: 0.61%\n"
     ]
    },
    {
     "output_type": "display_data",
     "data": {
      "text/plain": [
       "<Figure size 864x720 with 0 Axes>"
      ]
     },
     "metadata": {}
    }
   ],
   "source": [
    "# Evaluamos la red\n",
    "print(\"[INFO] evaluating network...\")\n",
    "predictions = model.predict(x_test_images)\n",
    "diff = predictions.flatten() - y_test\n",
    "percentDiff = (diff / y_test) * 100\n",
    "absPercentDiff = np.abs(percentDiff)\n",
    "\n",
    "\n",
    "# Evaluamos el performance de la red, vemos si podemos describir todos nuestros datos\n",
    "mse = mean_squared_error(y_test, predictions)\n",
    "mae = mean_absolute_error(y_test, predictions)\n",
    "r2 = r2_score(y_test, predictions)\n",
    "\n",
    "# Imprimimos metricas\n",
    "print('Mean Squared Error (MSE):', mse)\n",
    "print('Mean Absolute Error (MAE):', mae)\n",
    "print('R-squared (R^2):', r2)\n",
    "\n",
    "# Usamos las metricas de medición del blog de sugerencia\n",
    "# compute the mean and standard deviation of the absolute percentage\n",
    "# difference\n",
    "mean = np.mean(absPercentDiff)\n",
    "std = np.std(absPercentDiff)\n",
    "# finally, show some statistics on our model\n",
    "locale.setlocale(locale.LC_ALL, \"en_US.UTF-8\")\n",
    "print(\"[INFO] avg. house price: {}, std house price: {}\".format(\n",
    "\tlocale.currency(df_train[\"Price\"].mean(), grouping=True),\n",
    "\tlocale.currency(df_train[\"Price\"].std(), grouping=True)))\n",
    "print(\"[INFO] mean: {:.2f}%, std: {:.2f}%\".format(mean, std))\n",
    "\n",
    "# Creamos un grid\n",
    "fig = plt.figure(figsize=(12, 10))\n",
    "gs = gridspec.GridSpec(nrows=2, ncols=2, figure=fig, hspace=0.5, wspace=0.2, height_ratios=[1, 1])\n"
   ],
   "metadata": {
    "pycharm": {
     "name": "#%%\n"
    },
    "colab": {
     "base_uri": "https://localhost:8080/",
     "height": 156
    },
    "id": "CAG1fx3VmxTl",
    "executionInfo": {
     "status": "ok",
     "timestamp": 1676583585084,
     "user_tz": 360,
     "elapsed": 1028,
     "user": {
      "displayName": "Rogelio Bautista",
      "userId": "09685885284832322578"
     }
    },
    "outputId": "d651188f-4aaa-4b6e-c477-26cafa46810b"
   }
  },
  {
   "cell_type": "code",
   "source": [
    "test_pred = model.predict(x_test_images)\n",
    "diff = test_pred.flatten() - y_test\n",
    "percentDiff = (diff / y_test) * 100\n",
    "absPercentDiff = np.abs(percentDiff)\n",
    "# compute the mean and standard deviation of the absolute percentage\n",
    "# difference\n",
    "mean = np.mean(absPercentDiff)\n",
    "std = np.std(absPercentDiff)\n",
    "# finally, show some statistics on our model\n",
    "locale.setlocale(locale.LC_ALL, \"en_US.UTF-8\")\n",
    "print(\"[INFO] avg. house price: {}, std house price: {}\".format(\n",
    "    locale.currency(df_train[\"Price\"].mean(), grouping=True),\n",
    "    locale.currency(df_train[\"Price\"].std(), grouping=True)))\n",
    "print(\"[INFO] mean: {:.2f}%, std: {:.2f}%\".format(mean, std))\n",
    " # Create a grid of subplots that shares the y-axis across rows and the x-axis across columns\n",
    "fig = plt.figure(figsize=(12, 10))\n",
    "gs = gridspec.GridSpec(nrows=2, ncols=2, figure=fig, hspace=0.5, wspace=0.2, height_ratios=[1, 1])\n",
    "\n",
    "# Plot the training and validation curves for each metric\n",
    "for i, metric in enumerate(['mean_absolute_error', 'mean_squared_error', 'root_mean_squared_error']):\n",
    "    row = i // 2\n",
    "    col = i % 2\n",
    "    ax = fig.add_subplot(gs[row, col])\n",
    "    ax.plot(history.history[metric], label='Training')\n",
    "    ax.plot(history.history['val_' + metric], label='Validation')\n",
    "    ax.set_title(metric)\n",
    "    ax.set_xlabel('Epoch')\n",
    "    ax.set_ylabel(metric)\n",
    "    ax.legend(loc='upper right')\n",
    "plt.show()"
   ],
   "metadata": {
    "id": "VRxNwD8uzsRL",
    "executionInfo": {
     "status": "ok",
     "timestamp": 1676583588351,
     "user_tz": 360,
     "elapsed": 1156,
     "user": {
      "displayName": "Rogelio Bautista",
      "userId": "09685885284832322578"
     }
    },
    "colab": {
     "base_uri": "https://localhost:8080/",
     "height": 673
    },
    "outputId": "51ec75ef-78cf-4ab5-9a23-5a33e71e142f",
    "pycharm": {
     "name": "#%%\n"
    }
   },
   "execution_count": null,
   "outputs": [
    {
     "output_type": "stream",
     "name": "stdout",
     "text": [
      "8/8 [==============================] - 0s 19ms/step\n",
      "[INFO] avg. house price: $64.59, std house price: $55.36\n",
      "[INFO] mean: 99.02%, std: 0.61%\n"
     ]
    },
    {
     "output_type": "display_data",
     "data": {
      "text/plain": [
       "<Figure size 864x720 with 3 Axes>"
      ],
      "image/png": "[encoded data removed]"
     },
     "metadata": {
      "needs_background": "light"
     }
    }
   ]
  },
  {
   "cell_type": "markdown",
   "source": [
    "#### DE plano el modelo no pudo converger, vamos a probar con un modelo mas simple"
   ],
   "metadata": {
    "collapsed": false,
    "pycharm": {
     "name": "#%% md\n"
    }
   }
  },
  {
   "cell_type": "code",
   "execution_count": null,
   "outputs": [],
   "source": [],
   "metadata": {
    "collapsed": false,
    "pycharm": {
     "name": "#%%\n"
    }
   }
  }
 ],
 "metadata": {
  "kernelspec": {
   "display_name": "Python 3",
   "language": "python",
   "name": "python3"
  },
  "language_info": {
   "codemirror_mode": {
    "name": "ipython",
    "version": 2
   },
   "file_extension": ".py",
   "mimetype": "text/x-python",
   "name": "python",
   "nbconvert_exporter": "python",
   "pygments_lexer": "ipython2",
   "version": "2.7.6"
  },
  "colab": {
   "provenance": []
  },
  "gpuClass": "standard"
 },
 "nbformat": 4,
 "nbformat_minor": 0
}