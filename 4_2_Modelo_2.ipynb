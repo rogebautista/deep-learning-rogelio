{
 "cells": [
  {
   "cell_type": "code",
   "execution_count": 4,
   "metadata": {
    "collapsed": true,
    "pycharm": {
     "name": "#%%\n"
    },
    "colab": {
     "base_uri": "https://localhost:8080/"
    },
    "id": "aduem84fmxTF",
    "executionInfo": {
     "status": "ok",
     "timestamp": 1676758845181,
     "user_tz": 360,
     "elapsed": 21072,
     "user": {
      "displayName": "Rogelio Bautista",
      "userId": "09685885284832322578"
     }
    },
    "outputId": "be4407b0-fe9f-4de4-e10e-86309ec9c55c"
   },
   "outputs": [
    {
     "output_type": "stream",
     "name": "stdout",
     "text": [
      "Mounted at /content/drive\n"
     ]
    }
   ],
   "source": [
    "# Nos conectamos a nuestro conjunto de datos\n",
    "\n",
    "from google.colab import drive\n",
    "drive.mount('/content/drive')"
   ]
  },
  {
   "cell_type": "code",
   "execution_count": 5,
   "outputs": [
    {
     "output_type": "stream",
     "name": "stdout",
     "text": [
      "Looking in indexes: https://pypi.org/simple, https://us-python.pkg.dev/colab-wheels/public/simple/\n",
      "Collecting bayesian-optimization\n",
      "  Downloading bayesian_optimization-1.4.2-py3-none-any.whl (17 kB)\n",
      "Requirement already satisfied: scipy>=1.0.0 in /usr/local/lib/python3.8/dist-packages (from bayesian-optimization) (1.7.3)\n",
      "Requirement already satisfied: scikit-learn>=0.18.0 in /usr/local/lib/python3.8/dist-packages (from bayesian-optimization) (1.0.2)\n",
      "Collecting colorama>=0.4.6\n",
      "  Downloading colorama-0.4.6-py2.py3-none-any.whl (25 kB)\n",
      "Requirement already satisfied: numpy>=1.9.0 in /usr/local/lib/python3.8/dist-packages (from bayesian-optimization) (1.21.6)\n",
      "Requirement already satisfied: threadpoolctl>=2.0.0 in /usr/local/lib/python3.8/dist-packages (from scikit-learn>=0.18.0->bayesian-optimization) (3.1.0)\n",
      "Requirement already satisfied: joblib>=0.11 in /usr/local/lib/python3.8/dist-packages (from scikit-learn>=0.18.0->bayesian-optimization) (1.2.0)\n",
      "Installing collected packages: colorama, bayesian-optimization\n",
      "Successfully installed bayesian-optimization-1.4.2 colorama-0.4.6\n"
     ]
    }
   ],
   "source": [
    "import pandas as pd\n",
    "import numpy as np\n",
    "import seaborn as sns\n",
    "\n",
    "import matplotlib.pyplot as plt\n",
    "from matplotlib.colors import ListedColormap\n",
    "%matplotlib inline\n",
    "\n",
    "cm = plt.cm.RdBu\n",
    "cm_bright = ListedColormap(['#FF0000', '#0000FF'])\n",
    "\n",
    "import tensorflow as tf\n",
    "from tensorflow.keras.models import Sequential\n",
    "from sklearn.metrics import classification_report\n",
    "from tensorflow.keras.layers import Dense, Flatten, Input\n",
    "from tensorflow.keras.optimizers.legacy import SGD\n",
    "from tensorflow.keras.optimizers.legacy import Adam\n",
    "from sklearn.model_selection import train_test_split\n",
    "from sklearn.preprocessing import StandardScaler\n",
    "from tensorflow.keras import metrics\n",
    "from sklearn.metrics import mean_squared_error, mean_absolute_error, r2_score\n",
    "\n",
    "# optimizador de la red por medio de Bayessian Optimization\n",
    "!pip install bayesian-optimization\n",
    "from bayes_opt import BayesianOptimization\n"
   ],
   "metadata": {
    "pycharm": {
     "name": "#%%\n"
    },
    "colab": {
     "base_uri": "https://localhost:8080/"
    },
    "id": "wzJubDfymxTK",
    "executionInfo": {
     "status": "ok",
     "timestamp": 1676758849840,
     "user_tz": 360,
     "elapsed": 4666,
     "user": {
      "displayName": "Rogelio Bautista",
      "userId": "09685885284832322578"
     }
    },
    "outputId": "45fbb0fe-44ba-426a-8d09-86d89e703b01"
   }
  },
  {
   "cell_type": "code",
   "source": [
    "# Check tensorflow version\n",
    "print(tf.__version__)"
   ],
   "metadata": {
    "colab": {
     "base_uri": "https://localhost:8080/"
    },
    "id": "dpU64cQxn6xt",
    "executionInfo": {
     "status": "ok",
     "timestamp": 1676758849841,
     "user_tz": 360,
     "elapsed": 37,
     "user": {
      "displayName": "Rogelio Bautista",
      "userId": "09685885284832322578"
     }
    },
    "outputId": "0f230ec4-22ff-47f1-c59e-428861efe383",
    "pycharm": {
     "name": "#%%\n"
    }
   },
   "execution_count": 6,
   "outputs": [
    {
     "output_type": "stream",
     "name": "stdout",
     "text": [
      "2.11.0\n"
     ]
    }
   ]
  },
  {
   "cell_type": "code",
   "execution_count": 7,
   "outputs": [
    {
     "output_type": "stream",
     "name": "stdout",
     "text": [
      "(750, 22)\n",
      "(250, 22)\n",
      "(750, 224, 224, 3)\n",
      "(250, 224, 224, 3)\n"
     ]
    }
   ],
   "source": [
    "# Abrimos nuestros dataset para prepararlo\n",
    "df_train = pd.read_csv('./drive/MyDrive/deep-learning-rogelio/train_data.csv', sep=';', decimal='.')\n",
    "print(df_train.shape)\n",
    "\n",
    "df_test = pd.read_csv('./drive/MyDrive/deep-learning-rogelio/test_data.csv', sep=';', decimal='.')\n",
    "print(df_test.shape)\n",
    "\n",
    "# Vamos a abrir las imágenes\n",
    "trainImagesX = np.load(\"./drive/MyDrive/deep-learning-rogelio/trainImagesX.npy\")\n",
    "print(trainImagesX.shape)\n",
    "\n",
    "# Abrimos las imagenes de test\n",
    "testImagesX = np.load(\"./drive/MyDrive/deep-learning-rogelio/testImagesX.npy\")\n",
    "print(testImagesX.shape)\n",
    "\n",
    "\n",
    "x_train_images = trainImagesX / 255\n",
    "x_test_images = testImagesX / 255\n",
    "\n",
    "# Hacemos el split de train y test para las imágenes y los atributos\n",
    "# Lo hacemos con el dataframe completo, aún no separamos los valores\n",
    "\n",
    "split = train_test_split(df_train, x_train_images, test_size=0.1, random_state=42)\n",
    "(trainAttrX, valAttrX, trainImagesX, valImagesX) = split\n",
    "\n",
    "# Separamos x_train, y_train y convertimos a numpy\n",
    "x_train = trainAttrX.drop(['Price'], axis=1).values\n",
    "y_train = trainAttrX['Price'].values\n",
    "\n",
    "x_val = valAttrX.drop(['Price'], axis=1).values\n",
    "y_val = valAttrX['Price'].values\n",
    "\n",
    "# Separamos x_test, y_test y convertimos a numpy\n",
    "x_test = df_test.drop(['Price'], axis=1).values\n",
    "y_test = df_test['Price'].values\n",
    "\n",
    "from sklearn.preprocessing import MinMaxScaler\n",
    "# Create the scaler object\n",
    "scaler = MinMaxScaler()\n",
    "\n",
    "# Fit the scaler to the training data\n",
    "scaler.fit(x_train)\n",
    "\n",
    "# Transform the training and test data\n",
    "x_train = scaler.transform(x_train)\n",
    "x_test = scaler.transform(x_test)\n",
    "x_val = scaler.transform(x_val)"
   ],
   "metadata": {
    "pycharm": {
     "name": "#%%\n"
    },
    "colab": {
     "base_uri": "https://localhost:8080/"
    },
    "id": "GAH5EkjamxTO",
    "executionInfo": {
     "status": "ok",
     "timestamp": 1676758852604,
     "user_tz": 360,
     "elapsed": 2797,
     "user": {
      "displayName": "Rogelio Bautista",
      "userId": "09685885284832322578"
     }
    },
    "outputId": "1cb2c547-d22e-4a3d-a1ca-b0c4e4c17b0d"
   }
  },
  {
   "cell_type": "code",
   "source": [
    "#for image in trainImagesX:\n",
    "#    if image.shape >= (224, 224, 4):\n",
    "#        print(image.shape)\n",
    "#        plt.imshow(image)\n",
    "#        plt.show()"
   ],
   "metadata": {
    "id": "19cWCS7qqelu",
    "pycharm": {
     "name": "#%%\n"
    }
   },
   "execution_count": null,
   "outputs": []
  },
  {
   "cell_type": "code",
   "execution_count": null,
   "outputs": [],
   "source": [
    "#from sklearn.preprocessing import MinMaxScaler\n",
    "## Escalamos las imagenes\n",
    "#scaler = MinMaxScaler()\n",
    "#x_train_images = scaler.fit_transform(trainImagesX)\n",
    "#x_test_images = scaler.fit_transform(testImagesX)"
   ],
   "metadata": {
    "pycharm": {
     "name": "#%%\n"
    },
    "id": "CBU-5IXqmxTT"
   }
  },
  {
   "cell_type": "code",
   "execution_count": 32,
   "outputs": [],
   "source": [
    "import numpy as np\n",
    "import tensorflow as tf\n",
    "from tensorflow.keras.models import Sequential\n",
    "from sklearn.metrics import classification_report\n",
    "from tensorflow.keras.layers import Dense, Flatten, Input, Dropout, Conv2D, Activation, BatchNormalization, MaxPooling2D\n",
    "from tensorflow.keras import optimizers, Model\n",
    "from tensorflow.keras.optimizers import SGD\n",
    "import matplotlib.pyplot as plt\n",
    "import locale\n",
    "from matplotlib import image as mpimg\n",
    "import matplotlib.gridspec as gridspec\n",
    "from tensorflow.keras.callbacks import EarlyStopping, ReduceLROnPlateau\n",
    "from tensorflow.keras.layers import Dropout, AveragePooling2D, MaxPool2D\n",
    "from tensorflow.keras.utils import plot_model\n",
    "from tensorflow.keras import regularizers\n",
    "\n",
    "\n",
    "def train_deep_net(width, height, depth, filters=(32, 32, 64, 128, 128, 64, 64), regress=False):\n",
    "    # initialize the input shape and channel dimension, assuming\n",
    "    # TensorFlow/channels-last ordering\n",
    "    inputShape = (height, width, depth)\n",
    "\n",
    "    ### En este primer intento nuestra red se llevo la GPU\n",
    "    \"\"\"model = Sequential()\n",
    "    model.add(Conv2D(32, input_shape=inputShape, kernel_regularizer=regularizers.l1(0.005), kernel_size=(3, 3), activation='relu'))\n",
    "    model.add(Conv2D(64, kernel_regularizer=regularizers.l1(0.005), kernel_size=(3, 3), activation='relu'))\n",
    "    model.add(AveragePooling2D(pool_size=(3,3),strides=1,padding='VALID'))\n",
    "    model.add(Conv2D(64, kernel_regularizer=regularizers.l1(0.005), kernel_size=(3, 3), activation='relu'))\n",
    "    #model.add(Conv2D(128, kernel_regularizer=regularizers.l1(0.005), kernel_size=(3, 3), activation='relu'))\n",
    "    model.add(Flatten())\n",
    "    model.add(Dense(64, kernel_regularizer=regularizers.l1(0.005), activation='relu'))\n",
    "    model.add(Dropout(.5))\n",
    "    model.add(Dense(64, kernel_regularizer=regularizers.l1(0.005), activation='relu'))\n",
    "    model.add(Dropout(.25))\n",
    "    model.add(Dense(31, kernel_regularizer=regularizers.l1(0.005), activation='relu'))\n",
    "    model.add(Dense(1, activation='linear'))\"\"\"\n",
    "\n",
    "    ## Este modelo se comportó un poco mejor, aqui integramos otras herramientas como\n",
    "    model = Sequential()\n",
    "    model.add(Conv2D(32, kernel_size=(3,3),strides=2, kernel_regularizer=regularizers.l1(0.005), activation='relu',padding='SAME', input_shape=(224, 224, 3)))\n",
    "    model.add(MaxPool2D(pool_size=(3,3),strides=2,padding='VALID'))\n",
    "    model.add(Conv2D(64, kernel_size=(3,3),strides=1, kernel_regularizer=regularizers.l1(0.005), activation='relu',padding='SAME'))\n",
    "    model.add(AveragePooling2D(pool_size=(3,3),strides=1,padding='VALID'))\n",
    "    model.add(Conv2D(128, kernel_size=(3,3),strides=2, kernel_regularizer=regularizers.l1(0.005), activation='relu',padding='SAME'))\n",
    "    model.add(Dropout(.5))\n",
    "    model.add(Conv2D(64, kernel_size=3,strides=1, kernel_regularizer=regularizers.l1(0.005), activation='relu',padding='SAME'))\n",
    "    model.add(Flatten())\n",
    "    model.add(Dense(128,activation='relu'))\n",
    "    model.add(Dropout(.5))\n",
    "    model.add(Dense(64,activation='relu'))\n",
    "    model.add(Dropout(.25))\n",
    "    model.add(Dense(31,activation='relu'))\n",
    "    model.add(Dense(1, activation='linear'))\n",
    "\n",
    "    # return the CNN\n",
    "    return model\n"
   ],
   "metadata": {
    "pycharm": {
     "name": "#%%\n"
    },
    "id": "9RZ6_lKimxTe",
    "executionInfo": {
     "status": "ok",
     "timestamp": 1676759580773,
     "user_tz": 360,
     "elapsed": 499,
     "user": {
      "displayName": "Rogelio Bautista",
      "userId": "09685885284832322578"
     }
    }
   }
  },
  {
   "cell_type": "code",
   "execution_count": 33,
   "outputs": [
    {
     "output_type": "stream",
     "name": "stdout",
     "text": [
      "Model: \"sequential_7\"\n",
      "_________________________________________________________________\n",
      " Layer (type)                Output Shape              Param #   \n",
      "=================================================================\n",
      " conv2d_28 (Conv2D)          (None, 112, 112, 32)      896       \n",
      "                                                                 \n",
      " max_pooling2d_7 (MaxPooling  (None, 55, 55, 32)       0         \n",
      " 2D)                                                             \n",
      "                                                                 \n",
      " conv2d_29 (Conv2D)          (None, 55, 55, 64)        18496     \n",
      "                                                                 \n",
      " average_pooling2d_7 (Averag  (None, 53, 53, 64)       0         \n",
      " ePooling2D)                                                     \n",
      "                                                                 \n",
      " conv2d_30 (Conv2D)          (None, 27, 27, 128)       73856     \n",
      "                                                                 \n",
      " dropout_21 (Dropout)        (None, 27, 27, 128)       0         \n",
      "                                                                 \n",
      " conv2d_31 (Conv2D)          (None, 27, 27, 64)        73792     \n",
      "                                                                 \n",
      " flatten_7 (Flatten)         (None, 46656)             0         \n",
      "                                                                 \n",
      " dense_28 (Dense)            (None, 128)               5972096   \n",
      "                                                                 \n",
      " dropout_22 (Dropout)        (None, 128)               0         \n",
      "                                                                 \n",
      " dense_29 (Dense)            (None, 64)                8256      \n",
      "                                                                 \n",
      " dropout_23 (Dropout)        (None, 64)                0         \n",
      "                                                                 \n",
      " dense_30 (Dense)            (None, 31)                2015      \n",
      "                                                                 \n",
      " dense_31 (Dense)            (None, 1)                 32        \n",
      "                                                                 \n",
      "=================================================================\n",
      "Total params: 6,149,439\n",
      "Trainable params: 6,149,439\n",
      "Non-trainable params: 0\n",
      "_________________________________________________________________\n"
     ]
    }
   ],
   "source": [
    "# initialize the number of epochs to train for, initial learning rate,\n",
    "# and batch size\n",
    "EPOCHS = 100\n",
    "INIT_LR = 1e-3\n",
    "BS = 128\n",
    "\n",
    "early_stopping = EarlyStopping(monitor='val_mean_squared_error', patience=10, restore_best_weights=True)\n",
    "reduce_lr = ReduceLROnPlateau(monitor='val_mean_squared_error', factor=0.2, patience=3, min_lr=1e-6)\n",
    "\n",
    "\n",
    "model = train_deep_net(width=224, height=224, depth=3, regress=True)\n",
    "opt = Adam(learning_rate=INIT_LR, decay=INIT_LR / EPOCHS)\n",
    "model.compile(loss=\"mse\", \n",
    "              optimizer=opt, metrics=[metrics.MeanAbsoluteError(), \n",
    "                                      metrics.MeanSquaredError(), \n",
    "                                      metrics.RootMeanSquaredError(), \n",
    "                                      metrics.Accuracy()])\n",
    "\n",
    "model.summary()"
   ],
   "metadata": {
    "pycharm": {
     "name": "#%%\n"
    },
    "id": "Y-M7qSd5mxTh",
    "executionInfo": {
     "status": "ok",
     "timestamp": 1676759583339,
     "user_tz": 360,
     "elapsed": 904,
     "user": {
      "displayName": "Rogelio Bautista",
      "userId": "09685885284832322578"
     }
    },
    "colab": {
     "base_uri": "https://localhost:8080/"
    },
    "outputId": "c1eb48ac-e7d0-4dc8-ed58-1ad7a093e3ba"
   }
  },
  {
   "cell_type": "code",
   "execution_count": 34,
   "outputs": [
    {
     "output_type": "stream",
     "name": "stdout",
     "text": [
      "[INFO] training model...\n",
      "Epoch 1/100\n",
      "6/6 [==============================] - 2s 173ms/step - loss: 7226.9814 - mean_absolute_error: 61.5163 - mean_squared_error: 7201.6431 - root_mean_squared_error: 84.8625 - accuracy: 0.0000e+00 - val_loss: 2735.6521 - val_mean_absolute_error: 33.1002 - val_mean_squared_error: 2711.1040 - val_root_mean_squared_error: 52.0683 - val_accuracy: 0.0000e+00 - lr: 0.0010\n",
      "Epoch 2/100\n",
      "6/6 [==============================] - 1s 101ms/step - loss: 5546.3115 - mean_absolute_error: 49.4244 - mean_squared_error: 5522.1436 - root_mean_squared_error: 74.3111 - accuracy: 0.0000e+00 - val_loss: 4934.5771 - val_mean_absolute_error: 54.8193 - val_mean_squared_error: 4911.0664 - val_root_mean_squared_error: 70.0790 - val_accuracy: 0.0000e+00 - lr: 0.0010\n",
      "Epoch 3/100\n",
      "6/6 [==============================] - 1s 101ms/step - loss: 6255.8779 - mean_absolute_error: 55.1745 - mean_squared_error: 6232.7178 - root_mean_squared_error: 78.9476 - accuracy: 0.0000e+00 - val_loss: 3604.1079 - val_mean_absolute_error: 41.6596 - val_mean_squared_error: 3581.5601 - val_root_mean_squared_error: 59.8461 - val_accuracy: 0.0000e+00 - lr: 0.0010\n",
      "Epoch 4/100\n",
      "6/6 [==============================] - 1s 106ms/step - loss: 4227.1685 - mean_absolute_error: 39.5016 - mean_squared_error: 4204.9453 - root_mean_squared_error: 64.8456 - accuracy: 0.0000e+00 - val_loss: 2531.8530 - val_mean_absolute_error: 41.9367 - val_mean_squared_error: 2510.1912 - val_root_mean_squared_error: 50.1018 - val_accuracy: 0.0000e+00 - lr: 0.0010\n",
      "Epoch 5/100\n",
      "6/6 [==============================] - 1s 105ms/step - loss: 3933.0840 - mean_absolute_error: 41.5642 - mean_squared_error: 3911.7229 - root_mean_squared_error: 62.5438 - accuracy: 0.0000e+00 - val_loss: 2240.2056 - val_mean_absolute_error: 29.4781 - val_mean_squared_error: 2219.3599 - val_root_mean_squared_error: 47.1101 - val_accuracy: 0.0000e+00 - lr: 0.0010\n",
      "Epoch 6/100\n",
      "6/6 [==============================] - 1s 106ms/step - loss: 3483.7170 - mean_absolute_error: 35.4396 - mean_squared_error: 3463.1377 - root_mean_squared_error: 58.8484 - accuracy: 0.0000e+00 - val_loss: 1899.1117 - val_mean_absolute_error: 28.8603 - val_mean_squared_error: 1878.9855 - val_root_mean_squared_error: 43.3473 - val_accuracy: 0.0000e+00 - lr: 0.0010\n",
      "Epoch 7/100\n",
      "6/6 [==============================] - 1s 101ms/step - loss: 3431.0078 - mean_absolute_error: 38.3307 - mean_squared_error: 3411.1152 - root_mean_squared_error: 58.4048 - accuracy: 0.0000e+00 - val_loss: 1902.6757 - val_mean_absolute_error: 28.7436 - val_mean_squared_error: 1883.1765 - val_root_mean_squared_error: 43.3956 - val_accuracy: 0.0000e+00 - lr: 0.0010\n",
      "Epoch 8/100\n",
      "6/6 [==============================] - 1s 102ms/step - loss: 3555.3645 - mean_absolute_error: 36.1595 - mean_squared_error: 3536.0586 - root_mean_squared_error: 59.4648 - accuracy: 0.0000e+00 - val_loss: 2158.7468 - val_mean_absolute_error: 29.0067 - val_mean_squared_error: 2139.7610 - val_root_mean_squared_error: 46.2575 - val_accuracy: 0.0000e+00 - lr: 0.0010\n",
      "Epoch 9/100\n",
      "6/6 [==============================] - 1s 104ms/step - loss: 3454.6174 - mean_absolute_error: 36.1440 - mean_squared_error: 3435.7781 - root_mean_squared_error: 58.6155 - accuracy: 0.0000e+00 - val_loss: 1918.4896 - val_mean_absolute_error: 28.3964 - val_mean_squared_error: 1899.8910 - val_root_mean_squared_error: 43.5877 - val_accuracy: 0.0000e+00 - lr: 0.0010\n",
      "Epoch 10/100\n",
      "6/6 [==============================] - 1s 104ms/step - loss: 3328.1533 - mean_absolute_error: 36.9614 - mean_squared_error: 3309.5867 - root_mean_squared_error: 57.5290 - accuracy: 0.0000e+00 - val_loss: 1932.8977 - val_mean_absolute_error: 28.1907 - val_mean_squared_error: 1914.3989 - val_root_mean_squared_error: 43.7538 - val_accuracy: 0.0000e+00 - lr: 2.0000e-04\n",
      "Epoch 11/100\n",
      "6/6 [==============================] - 1s 105ms/step - loss: 3504.3696 - mean_absolute_error: 37.0105 - mean_squared_error: 3485.9106 - root_mean_squared_error: 59.0416 - accuracy: 0.0000e+00 - val_loss: 2055.6272 - val_mean_absolute_error: 28.4362 - val_mean_squared_error: 2037.2367 - val_root_mean_squared_error: 45.1358 - val_accuracy: 0.0000e+00 - lr: 2.0000e-04\n",
      "Epoch 12/100\n",
      "6/6 [==============================] - 1s 102ms/step - loss: 3381.9038 - mean_absolute_error: 35.6984 - mean_squared_error: 3363.5486 - root_mean_squared_error: 57.9961 - accuracy: 0.0000e+00 - val_loss: 2065.6621 - val_mean_absolute_error: 28.4994 - val_mean_squared_error: 2047.3676 - val_root_mean_squared_error: 45.2478 - val_accuracy: 0.0000e+00 - lr: 2.0000e-04\n",
      "Epoch 13/100\n",
      "6/6 [==============================] - 1s 101ms/step - loss: 3324.2358 - mean_absolute_error: 35.2093 - mean_squared_error: 3305.9490 - root_mean_squared_error: 57.4974 - accuracy: 0.0000e+00 - val_loss: 2042.2247 - val_mean_absolute_error: 28.3527 - val_mean_squared_error: 2023.9535 - val_root_mean_squared_error: 44.9884 - val_accuracy: 0.0000e+00 - lr: 4.0000e-05\n",
      "Epoch 14/100\n",
      "6/6 [==============================] - 1s 100ms/step - loss: 3379.0112 - mean_absolute_error: 35.9070 - mean_squared_error: 3360.7488 - root_mean_squared_error: 57.9720 - accuracy: 0.0000e+00 - val_loss: 2013.0684 - val_mean_absolute_error: 28.1882 - val_mean_squared_error: 1994.8207 - val_root_mean_squared_error: 44.6634 - val_accuracy: 0.0000e+00 - lr: 4.0000e-05\n",
      "Epoch 15/100\n",
      "6/6 [==============================] - 1s 102ms/step - loss: 3415.2822 - mean_absolute_error: 35.6764 - mean_squared_error: 3397.0425 - root_mean_squared_error: 58.2842 - accuracy: 0.0000e+00 - val_loss: 1990.6324 - val_mean_absolute_error: 28.0910 - val_mean_squared_error: 1972.4060 - val_root_mean_squared_error: 44.4118 - val_accuracy: 0.0000e+00 - lr: 4.0000e-05\n",
      "Epoch 16/100\n",
      "6/6 [==============================] - 1s 105ms/step - loss: 3361.2600 - mean_absolute_error: 35.1540 - mean_squared_error: 3343.0352 - root_mean_squared_error: 57.8190 - accuracy: 0.0000e+00 - val_loss: 1985.3583 - val_mean_absolute_error: 28.0786 - val_mean_squared_error: 1967.1365 - val_root_mean_squared_error: 44.3524 - val_accuracy: 0.0000e+00 - lr: 8.0000e-06\n"
     ]
    }
   ],
   "source": [
    "# train the model\n",
    "print(\"[INFO] training model...\")\n",
    "history = model.fit(trainImagesX, y_train,\n",
    "                    validation_data=(valImagesX, y_val),\n",
    "                    epochs=EPOCHS,\n",
    "                    batch_size=BS,\n",
    "                    callbacks=[early_stopping, reduce_lr])\n",
    "\n"
   ],
   "metadata": {
    "pycharm": {
     "name": "#%%\n"
    },
    "colab": {
     "base_uri": "https://localhost:8080/"
    },
    "id": "AHJiClnmmxTi",
    "executionInfo": {
     "status": "ok",
     "timestamp": 1676759601183,
     "user_tz": 360,
     "elapsed": 12334,
     "user": {
      "displayName": "Rogelio Bautista",
      "userId": "09685885284832322578"
     }
    },
    "outputId": "81958347-2bdd-4b50-9690-91521793212d"
   }
  },
  {
   "cell_type": "code",
   "source": [
    "with open('./history.txt', 'w') as f:\n",
    "  f.write(str(history.history))\n",
    "!cp history.txt /content/drive/My\\ Drive/deep-learning-rogelio/history.txt"
   ],
   "metadata": {
    "id": "fLVc9X9qx92g",
    "pycharm": {
     "name": "#%%\n"
    }
   },
   "execution_count": null,
   "outputs": []
  },
  {
   "cell_type": "code",
   "execution_count": 35,
   "outputs": [
    {
     "output_type": "stream",
     "name": "stdout",
     "text": [
      "[INFO] evaluating network...\n",
      "8/8 [==============================] - 0s 12ms/step\n",
      "Mean Squared Error (MSE): 1632.5628869278246\n",
      "Mean Absolute Error (MAE): 26.492905883789064\n",
      "R-squared (R^2): -0.003087061039236838\n",
      "[INFO] avg. house price: $64.59, std house price: $55.36\n",
      "[INFO] mean: 54.08%, std: 60.10%\n"
     ]
    },
    {
     "output_type": "display_data",
     "data": {
      "text/plain": [
       "<Figure size 864x720 with 0 Axes>"
      ]
     },
     "metadata": {}
    }
   ],
   "source": [
    "# evaluate the network\n",
    "print(\"[INFO] evaluating network...\")\n",
    "predictions = model.predict(x_test_images)\n",
    "diff = predictions.flatten() - y_test\n",
    "percentDiff = (diff / y_test) * 100\n",
    "absPercentDiff = np.abs(percentDiff)\n",
    "\n",
    "\n",
    "# Evaluate the performance of the model\n",
    "mse = mean_squared_error(y_test, predictions)\n",
    "mae = mean_absolute_error(y_test, predictions)\n",
    "r2 = r2_score(y_test, predictions)\n",
    "\n",
    "# Print the evaluation metrics\n",
    "print('Mean Squared Error (MSE):', mse)\n",
    "print('Mean Absolute Error (MAE):', mae)\n",
    "print('R-squared (R^2):', r2)\n",
    "\n",
    "# compute the mean and standard deviation of the absolute percentage\n",
    "# difference\n",
    "mean = np.mean(absPercentDiff)\n",
    "std = np.std(absPercentDiff)\n",
    "# finally, show some statistics on our model\n",
    "locale.setlocale(locale.LC_ALL, \"en_US.UTF-8\")\n",
    "print(\"[INFO] avg. house price: {}, std house price: {}\".format(\n",
    "\tlocale.currency(df_train[\"Price\"].mean(), grouping=True),\n",
    "\tlocale.currency(df_train[\"Price\"].std(), grouping=True)))\n",
    "print(\"[INFO] mean: {:.2f}%, std: {:.2f}%\".format(mean, std))\n",
    "\n",
    "# Create a grid of subplots that shares the y-axis across rows and the x-axis across columns\n",
    "fig = plt.figure(figsize=(12, 10))\n",
    "gs = gridspec.GridSpec(nrows=2, ncols=2, figure=fig, hspace=0.5, wspace=0.2, height_ratios=[1, 1])\n"
   ],
   "metadata": {
    "pycharm": {
     "name": "#%%\n"
    },
    "colab": {
     "base_uri": "https://localhost:8080/",
     "height": 156
    },
    "id": "CAG1fx3VmxTl",
    "executionInfo": {
     "status": "ok",
     "timestamp": 1676759607864,
     "user_tz": 360,
     "elapsed": 1047,
     "user": {
      "displayName": "Rogelio Bautista",
      "userId": "09685885284832322578"
     }
    },
    "outputId": "76ffdea8-4b42-416d-caea-bf34ab6f6ddb"
   }
  },
  {
   "cell_type": "code",
   "source": [
    "test_pred = model.predict(x_test_images)\n",
    "diff = test_pred.flatten() - y_test\n",
    "percentDiff = (diff / y_test) * 100\n",
    "absPercentDiff = np.abs(percentDiff)\n",
    "# compute the mean and standard deviation of the absolute percentage\n",
    "# difference\n",
    "mean = np.mean(absPercentDiff)\n",
    "std = np.std(absPercentDiff)\n",
    "# finally, show some statistics on our model\n",
    "locale.setlocale(locale.LC_ALL, \"en_US.UTF-8\")\n",
    "print(\"[INFO] avg. house price: {}, std house price: {}\".format(\n",
    "    locale.currency(df_train[\"Price\"].mean(), grouping=True),\n",
    "    locale.currency(df_train[\"Price\"].std(), grouping=True)))\n",
    "print(\"[INFO] mean: {:.2f}%, std: {:.2f}%\".format(mean, std))\n",
    " # Create a grid of subplots that shares the y-axis across rows and the x-axis across columns\n",
    "fig = plt.figure(figsize=(12, 10))\n",
    "gs = gridspec.GridSpec(nrows=2, ncols=2, figure=fig, hspace=0.5, wspace=0.2, height_ratios=[1, 1])\n",
    "\n",
    "# Plot the training and validation curves for each metric\n",
    "for i, metric in enumerate(['mean_absolute_error', 'mean_squared_error', 'root_mean_squared_error']):\n",
    "    row = i // 2\n",
    "    col = i % 2\n",
    "    ax = fig.add_subplot(gs[row, col])\n",
    "    ax.plot(history.history[metric], label='Training')\n",
    "    ax.plot(history.history['val_' + metric], label='Validation')\n",
    "    ax.set_title(metric)\n",
    "    ax.set_xlabel('Epoch')\n",
    "    ax.set_ylabel(metric)\n",
    "    ax.legend(loc='upper right')\n",
    "plt.show()"
   ],
   "metadata": {
    "id": "VRxNwD8uzsRL",
    "executionInfo": {
     "status": "ok",
     "timestamp": 1676759611343,
     "user_tz": 360,
     "elapsed": 1510,
     "user": {
      "displayName": "Rogelio Bautista",
      "userId": "09685885284832322578"
     }
    },
    "colab": {
     "base_uri": "https://localhost:8080/",
     "height": 673
    },
    "outputId": "95bb756c-353e-472f-aa7d-7e2b130d9900",
    "pycharm": {
     "name": "#%%\n"
    }
   },
   "execution_count": 36,
   "outputs": [
    {
     "output_type": "stream",
     "name": "stdout",
     "text": [
      "8/8 [==============================] - 0s 17ms/step\n",
      "[INFO] avg. house price: $64.59, std house price: $55.36\n",
      "[INFO] mean: 54.08%, std: 60.10%\n"
     ]
    },
    {
     "output_type": "display_data",
     "data": {
      "text/plain": [
       "<Figure size 864x720 with 3 Axes>"
      ],
      "image/png": "[encoded data removed]"
     },
     "metadata": {
      "needs_background": "light"
     }
    }
   ]
  },
  {
   "cell_type": "markdown",
   "source": [
    "#### Podemos decir que nuestro modelo de este lado tiene un desempeño un poco mejor, sin embargo el costo computacional es alto, se tuvieron que disminuir la cantidad de neuronas"
   ],
   "metadata": {
    "collapsed": false,
    "pycharm": {
     "name": "#%% md\n"
    }
   }
  },
  {
   "cell_type": "code",
   "execution_count": null,
   "outputs": [],
   "source": [],
   "metadata": {
    "collapsed": false,
    "pycharm": {
     "name": "#%%\n"
    }
   }
  }
 ],
 "metadata": {
  "kernelspec": {
   "display_name": "Python 3",
   "language": "python",
   "name": "python3"
  },
  "language_info": {
   "codemirror_mode": {
    "name": "ipython",
    "version": 2
   },
   "file_extension": ".py",
   "mimetype": "text/x-python",
   "name": "python",
   "nbconvert_exporter": "python",
   "pygments_lexer": "ipython2",
   "version": "2.7.6"
  },
  "colab": {
   "provenance": [],
   "machine_shape": "hm"
  },
  "gpuClass": "standard",
  "accelerator": "GPU"
 },
 "nbformat": 4,
 "nbformat_minor": 0
}