{
 "cells": [
  {
   "cell_type": "code",
   "execution_count": 1,
   "metadata": {
    "collapsed": true,
    "pycharm": {
     "name": "#%%\n"
    },
    "colab": {
     "base_uri": "https://localhost:8080/"
    },
    "id": "qxnl8QhQcdto",
    "executionInfo": {
     "status": "ok",
     "timestamp": 1676836199197,
     "user_tz": 360,
     "elapsed": 25352,
     "user": {
      "displayName": "Rogelio Bautista",
      "userId": "09685885284832322578"
     }
    },
    "outputId": "dc1f8857-77c8-4f3a-df15-09d5336e3e6d"
   },
   "outputs": [
    {
     "output_type": "stream",
     "name": "stdout",
     "text": [
      "Mounted at /content/drive\n"
     ]
    }
   ],
   "source": [
    "# Nos conectamos a nuestro conjunto de datos\n",
    "\n",
    "from google.colab import drive\n",
    "drive.mount('/content/drive')"
   ]
  },
  {
   "cell_type": "code",
   "execution_count": 2,
   "outputs": [
    {
     "output_type": "stream",
     "name": "stdout",
     "text": [
      "Looking in indexes: https://pypi.org/simple, https://us-python.pkg.dev/colab-wheels/public/simple/\n",
      "Collecting bayesian-optimization\n",
      "  Downloading bayesian_optimization-1.4.2-py3-none-any.whl (17 kB)\n",
      "Requirement already satisfied: scipy>=1.0.0 in /usr/local/lib/python3.8/dist-packages (from bayesian-optimization) (1.7.3)\n",
      "Requirement already satisfied: scikit-learn>=0.18.0 in /usr/local/lib/python3.8/dist-packages (from bayesian-optimization) (1.0.2)\n",
      "Collecting colorama>=0.4.6\n",
      "  Downloading colorama-0.4.6-py2.py3-none-any.whl (25 kB)\n",
      "Requirement already satisfied: numpy>=1.9.0 in /usr/local/lib/python3.8/dist-packages (from bayesian-optimization) (1.21.6)\n",
      "Requirement already satisfied: threadpoolctl>=2.0.0 in /usr/local/lib/python3.8/dist-packages (from scikit-learn>=0.18.0->bayesian-optimization) (3.1.0)\n",
      "Requirement already satisfied: joblib>=0.11 in /usr/local/lib/python3.8/dist-packages (from scikit-learn>=0.18.0->bayesian-optimization) (1.2.0)\n",
      "Installing collected packages: colorama, bayesian-optimization\n",
      "Successfully installed bayesian-optimization-1.4.2 colorama-0.4.6\n"
     ]
    }
   ],
   "source": [
    "import pandas as pd\n",
    "import numpy as np\n",
    "import seaborn as sns\n",
    "\n",
    "import matplotlib.pyplot as plt\n",
    "from matplotlib.colors import ListedColormap\n",
    "%matplotlib inline\n",
    "\n",
    "cm = plt.cm.RdBu\n",
    "cm_bright = ListedColormap(['#FF0000', '#0000FF'])\n",
    "\n",
    "import tensorflow as tf\n",
    "from tensorflow.keras.models import Sequential\n",
    "from sklearn.metrics import classification_report\n",
    "from tensorflow.keras.layers import Dense, Flatten, Input\n",
    "from tensorflow.keras.optimizers.legacy import SGD\n",
    "from tensorflow.keras.optimizers.legacy import Adam\n",
    "from sklearn.model_selection import train_test_split\n",
    "from sklearn.preprocessing import StandardScaler\n",
    "from tensorflow.keras import metrics\n",
    "from sklearn.metrics import mean_squared_error, mean_absolute_error, r2_score\n",
    "\n",
    "import numpy as np\n",
    "import tensorflow as tf\n",
    "from tensorflow.keras.models import Sequential\n",
    "from sklearn.metrics import classification_report\n",
    "from tensorflow.keras.layers import Dense, Flatten, Input, Dropout, Conv2D, Activation, BatchNormalization, MaxPooling2D, GlobalAveragePooling2D\n",
    "from tensorflow.keras import optimizers, Model\n",
    "from tensorflow.keras.optimizers import SGD\n",
    "import matplotlib.pyplot as plt\n",
    "import locale\n",
    "from matplotlib import image as mpimg\n",
    "import matplotlib.gridspec as gridspec\n",
    "from tensorflow.keras.callbacks import EarlyStopping, ReduceLROnPlateau\n",
    "from tensorflow.keras.utils import plot_model\n",
    "from tensorflow.keras.applications import VGG16\n",
    "\n",
    "\n",
    "# optimizador de la red por medio de Bayessian Optimization\n",
    "!pip install bayesian-optimization\n",
    "from bayes_opt import BayesianOptimization\n"
   ],
   "metadata": {
    "pycharm": {
     "name": "#%%\n"
    },
    "colab": {
     "base_uri": "https://localhost:8080/"
    },
    "id": "oBqEfRWqcdtq",
    "executionInfo": {
     "status": "ok",
     "timestamp": 1676836209173,
     "user_tz": 360,
     "elapsed": 8661,
     "user": {
      "displayName": "Rogelio Bautista",
      "userId": "09685885284832322578"
     }
    },
    "outputId": "a4617e46-e066-482c-edd2-a28436a63ddc"
   }
  },
  {
   "cell_type": "code",
   "execution_count": 3,
   "outputs": [
    {
     "output_type": "stream",
     "name": "stdout",
     "text": [
      "(750, 22)\n",
      "(250, 22)\n",
      "(750, 224, 224, 3)\n",
      "(250, 224, 224, 3)\n"
     ]
    }
   ],
   "source": [
    "# Abrimos nuestros dataset para prepararlo\n",
    "# ./drive/MyDrive/deep-learning-rogelio/train_data.csv\n",
    "df_train = pd.read_csv('./drive/MyDrive/deep-learning-rogelio/train_data.csv', sep=';', decimal='.')\n",
    "print(df_train.shape)\n",
    "\n",
    "df_test = pd.read_csv('./drive/MyDrive/deep-learning-rogelio/test_data.csv', sep=';', decimal='.')\n",
    "print(df_test.shape)\n",
    "\n",
    "# Vamos a abrir las imágenes\n",
    "trainImagesX = np.load(\"./drive/MyDrive/deep-learning-rogelio/trainImagesX.npy\")\n",
    "print(trainImagesX.shape)\n",
    "\n",
    "# Abrimos las imagenes de test\n",
    "testImagesX = np.load(\"./drive/MyDrive/deep-learning-rogelio/testImagesX.npy\")\n",
    "print(testImagesX.shape)\n"
   ],
   "metadata": {
    "pycharm": {
     "name": "#%%\n"
    },
    "colab": {
     "base_uri": "https://localhost:8080/"
    },
    "id": "zNGLMIT7cdtt",
    "executionInfo": {
     "status": "ok",
     "timestamp": 1676836218418,
     "user_tz": 360,
     "elapsed": 2653,
     "user": {
      "displayName": "Rogelio Bautista",
      "userId": "09685885284832322578"
     }
    },
    "outputId": "228afebd-d56f-4d46-ab61-dfadc54c8f57"
   }
  },
  {
   "cell_type": "code",
   "source": [
    "x_train_images = trainImagesX / 255\n",
    "x_test_images = testImagesX / 255"
   ],
   "metadata": {
    "id": "ATO7vYzFdMMW",
    "executionInfo": {
     "status": "ok",
     "timestamp": 1676836223268,
     "user_tz": 360,
     "elapsed": 881,
     "user": {
      "displayName": "Rogelio Bautista",
      "userId": "09685885284832322578"
     }
    },
    "pycharm": {
     "name": "#%%\n"
    }
   },
   "execution_count": 4,
   "outputs": []
  },
  {
   "cell_type": "code",
   "source": [
    "# Hacemos el split de train y validation para las imágenes y los atributos\n",
    "# Lo hacemos con el dataframe completo, aún no separamos los valores\n",
    "\n",
    "split = train_test_split(df_train, x_train_images, test_size=0.1, random_state=42)\n",
    "(trainAttrX, valAttrX, trainImagesX, valImagesX) = split"
   ],
   "metadata": {
    "id": "2eIQMt53dgh8",
    "executionInfo": {
     "status": "ok",
     "timestamp": 1676836228688,
     "user_tz": 360,
     "elapsed": 1127,
     "user": {
      "displayName": "Rogelio Bautista",
      "userId": "09685885284832322578"
     }
    },
    "pycharm": {
     "name": "#%%\n"
    }
   },
   "execution_count": 5,
   "outputs": []
  },
  {
   "cell_type": "code",
   "source": [
    "# Separamos x_train, y_train y convertimos a numpy\n",
    "x_train = trainAttrX.drop(['Price'], axis=1).values\n",
    "y_train = trainAttrX['Price'].values\n",
    "\n",
    "x_val = valAttrX.drop(['Price'], axis=1).values\n",
    "y_val = valAttrX['Price'].values\n",
    "\n",
    "# Separamos x_test, y_test y convertimos a numpy\n",
    "x_test = df_test.drop(['Price'], axis=1).values\n",
    "y_test = df_test['Price'].values"
   ],
   "metadata": {
    "id": "Fmb4Se0PdsS4",
    "executionInfo": {
     "status": "ok",
     "timestamp": 1676836242549,
     "user_tz": 360,
     "elapsed": 290,
     "user": {
      "displayName": "Rogelio Bautista",
      "userId": "09685885284832322578"
     }
    },
    "pycharm": {
     "name": "#%%\n"
    }
   },
   "execution_count": 6,
   "outputs": []
  },
  {
   "cell_type": "code",
   "source": [
    "from sklearn.preprocessing import MinMaxScaler\n",
    "# Create the scaler object\n",
    "scaler = MinMaxScaler()\n",
    "\n",
    "# Fit the scaler to the training data\n",
    "scaler.fit(x_train)\n",
    "\n",
    "# Transform the training and test data\n",
    "x_train = scaler.transform(x_train)\n",
    "x_test = scaler.transform(x_test)\n",
    "x_val = scaler.transform(x_val)"
   ],
   "metadata": {
    "id": "CQ02vkzDd2K-",
    "executionInfo": {
     "status": "ok",
     "timestamp": 1676836250007,
     "user_tz": 360,
     "elapsed": 1920,
     "user": {
      "displayName": "Rogelio Bautista",
      "userId": "09685885284832322578"
     }
    },
    "pycharm": {
     "name": "#%%\n"
    }
   },
   "execution_count": 7,
   "outputs": []
  },
  {
   "cell_type": "code",
   "source": [
    "print()"
   ],
   "metadata": {
    "id": "2xshZDzLd-EG",
    "colab": {
     "base_uri": "https://localhost:8080/"
    },
    "executionInfo": {
     "status": "ok",
     "timestamp": 1676836344826,
     "user_tz": 360,
     "elapsed": 373,
     "user": {
      "displayName": "Rogelio Bautista",
      "userId": "09685885284832322578"
     }
    },
    "outputId": "575e2427-d99c-4b27-e5b0-ae3fd19a3695",
    "pycharm": {
     "name": "#%%\n"
    }
   },
   "execution_count": 12,
   "outputs": [
    {
     "output_type": "stream",
     "name": "stdout",
     "text": [
      "\n"
     ]
    }
   ]
  },
  {
   "cell_type": "markdown",
   "source": [
    "### Primer prueba\n",
    "En esta primer prueba vamos a congelar todas las capas del modelo VGG16, añadimos un par de capas al final y entrenamos el modelo"
   ],
   "metadata": {
    "collapsed": false,
    "pycharm": {
     "name": "#%% md\n"
    }
   }
  },
  {
   "cell_type": "code",
   "source": [
    "import tensorflow as tf\n",
    "from tensorflow.keras import layers\n",
    "from tensorflow.keras import models\n",
    "from tensorflow.keras import optimizers\n",
    "from tensorflow.keras.applications import ResNet50V2\n",
    "from tensorflow.keras.callbacks import EarlyStopping, ReduceLROnPlateau\n",
    "from sklearn.metrics import mean_squared_error, mean_absolute_error, r2_score\n",
    "from tensorflow.keras import metrics \n",
    "\n",
    "# Load the ResNet50V2 model without the top layers and set it to non-trainable\n",
    "# base_model = ResNet50V2(input_shape=(224, 224, 3), include_top=False, weights='imagenet')\n",
    "base_model = VGG16(input_shape=(224, 224, 3), include_top=False, weights='imagenet')\n",
    "for layer in base_model.layers:\n",
    "    layer.trainable = False\n",
    "\n",
    "# Add a custom top to the model for regression\n",
    "x = layers.Flatten()(base_model.output)\n",
    "x = layers.Dense(64, activation='relu')(x)\n",
    "x = layers.Dropout(0.2)(x)\n",
    "x = layers.Dense(1, activation='linear')(x)\n",
    "\n",
    "# Compile the model\n",
    "model = models.Model(base_model.input, x)\n",
    "model.compile(optimizer=optimizers.Adam(learning_rate=1e-4), loss='mse', \n",
    "              metrics=[\n",
    "                  metrics.MeanAbsoluteError(), \n",
    "                  metrics.MeanSquaredError(), \n",
    "                  metrics.RootMeanSquaredError()])\n",
    "\n",
    "# Define the callbacks for training\n",
    "early_stopping = EarlyStopping(monitor='val_loss', patience=5, restore_best_weights=True)\n",
    "reduce_lr = ReduceLROnPlateau(monitor='val_loss', factor=0.2, patience=3, min_lr=1e-6)\n",
    "\n",
    "# Train the model\n",
    "history = model.fit(x=trainImagesX, y=y_train, batch_size=128, epochs=50, validation_data=(valImagesX, y_val), callbacks=[early_stopping, reduce_lr], verbose=1)\n",
    "\n",
    "# Evaluate the model on the test set\n",
    "test_pred = model.predict(x_test_images)\n",
    "mse = mean_squared_error(y_test, test_pred)\n",
    "mae = mean_absolute_error(y_test, test_pred)\n",
    "r2 = r2_score(y_test, test_pred)\n",
    "\n",
    "# Print the evaluation metrics\n",
    "print('Mean Squared Error (MSE):', mse)\n",
    "print('Mean Absolute Error (MAE):', mae)\n",
    "print('R-squared (R^2):', r2)\n"
   ],
   "metadata": {
    "colab": {
     "base_uri": "https://localhost:8080/"
    },
    "id": "8vFnU024cj6b",
    "executionInfo": {
     "status": "ok",
     "timestamp": 1676836529130,
     "user_tz": 360,
     "elapsed": 164035,
     "user": {
      "displayName": "Rogelio Bautista",
      "userId": "09685885284832322578"
     }
    },
    "outputId": "eafe84c4-941e-475e-d63b-604512f90f51",
    "pycharm": {
     "name": "#%%\n"
    }
   },
   "execution_count": 13,
   "outputs": [
    {
     "output_type": "stream",
     "name": "stdout",
     "text": [
      "Epoch 1/50\n",
      "6/6 [==============================] - 12s 2s/step - loss: 7030.8237 - mean_absolute_error: 61.9949 - mean_squared_error: 7030.8237 - root_mean_squared_error: 83.8500 - val_loss: 4688.5698 - val_mean_absolute_error: 52.6607 - val_mean_squared_error: 4688.5698 - val_root_mean_squared_error: 68.4731 - lr: 1.0000e-04\n",
      "Epoch 2/50\n",
      "6/6 [==============================] - 3s 463ms/step - loss: 6015.5093 - mean_absolute_error: 53.0906 - mean_squared_error: 6015.5093 - root_mean_squared_error: 77.5597 - val_loss: 3784.6013 - val_mean_absolute_error: 43.4157 - val_mean_squared_error: 3784.6013 - val_root_mean_squared_error: 61.5191 - lr: 1.0000e-04\n",
      "Epoch 3/50\n",
      "6/6 [==============================] - 3s 467ms/step - loss: 5085.3042 - mean_absolute_error: 44.7051 - mean_squared_error: 5085.3042 - root_mean_squared_error: 71.3113 - val_loss: 3058.1887 - val_mean_absolute_error: 35.9346 - val_mean_squared_error: 3058.1887 - val_root_mean_squared_error: 55.3009 - lr: 1.0000e-04\n",
      "Epoch 4/50\n",
      "6/6 [==============================] - 3s 464ms/step - loss: 4398.7588 - mean_absolute_error: 38.7636 - mean_squared_error: 4398.7588 - root_mean_squared_error: 66.3231 - val_loss: 2533.3188 - val_mean_absolute_error: 31.1863 - val_mean_squared_error: 2533.3188 - val_root_mean_squared_error: 50.3321 - lr: 1.0000e-04\n",
      "Epoch 5/50\n",
      "6/6 [==============================] - 3s 465ms/step - loss: 3837.5730 - mean_absolute_error: 35.3812 - mean_squared_error: 3837.5730 - root_mean_squared_error: 61.9481 - val_loss: 2192.6611 - val_mean_absolute_error: 29.1154 - val_mean_squared_error: 2192.6611 - val_root_mean_squared_error: 46.8259 - lr: 1.0000e-04\n",
      "Epoch 6/50\n",
      "6/6 [==============================] - 3s 469ms/step - loss: 3504.4468 - mean_absolute_error: 34.1648 - mean_squared_error: 3504.4468 - root_mean_squared_error: 59.1984 - val_loss: 2007.4460 - val_mean_absolute_error: 28.6627 - val_mean_squared_error: 2007.4460 - val_root_mean_squared_error: 44.8045 - lr: 1.0000e-04\n",
      "Epoch 7/50\n",
      "6/6 [==============================] - 3s 466ms/step - loss: 3343.9612 - mean_absolute_error: 34.2451 - mean_squared_error: 3343.9612 - root_mean_squared_error: 57.8270 - val_loss: 1927.5472 - val_mean_absolute_error: 29.0620 - val_mean_squared_error: 1927.5472 - val_root_mean_squared_error: 43.9038 - lr: 1.0000e-04\n",
      "Epoch 8/50\n",
      "6/6 [==============================] - 3s 465ms/step - loss: 3219.8459 - mean_absolute_error: 34.6391 - mean_squared_error: 3219.8459 - root_mean_squared_error: 56.7437 - val_loss: 1905.0554 - val_mean_absolute_error: 30.0247 - val_mean_squared_error: 1905.0554 - val_root_mean_squared_error: 43.6469 - lr: 1.0000e-04\n",
      "Epoch 9/50\n",
      "6/6 [==============================] - 3s 460ms/step - loss: 3220.8516 - mean_absolute_error: 35.3890 - mean_squared_error: 3220.8516 - root_mean_squared_error: 56.7525 - val_loss: 1905.8440 - val_mean_absolute_error: 30.7659 - val_mean_squared_error: 1905.8440 - val_root_mean_squared_error: 43.6560 - lr: 1.0000e-04\n",
      "Epoch 10/50\n",
      "6/6 [==============================] - 3s 463ms/step - loss: 3201.9529 - mean_absolute_error: 36.0482 - mean_squared_error: 3201.9529 - root_mean_squared_error: 56.5858 - val_loss: 1906.4263 - val_mean_absolute_error: 31.1071 - val_mean_squared_error: 1906.4263 - val_root_mean_squared_error: 43.6626 - lr: 1.0000e-04\n",
      "Epoch 11/50\n",
      "6/6 [==============================] - 3s 487ms/step - loss: 3162.3784 - mean_absolute_error: 35.8017 - mean_squared_error: 3162.3784 - root_mean_squared_error: 56.2350 - val_loss: 1904.8611 - val_mean_absolute_error: 31.2904 - val_mean_squared_error: 1904.8611 - val_root_mean_squared_error: 43.6447 - lr: 1.0000e-04\n",
      "Epoch 12/50\n",
      "6/6 [==============================] - 3s 467ms/step - loss: 3142.4304 - mean_absolute_error: 35.6279 - mean_squared_error: 3142.4304 - root_mean_squared_error: 56.0574 - val_loss: 1898.2954 - val_mean_absolute_error: 31.2394 - val_mean_squared_error: 1898.2954 - val_root_mean_squared_error: 43.5694 - lr: 1.0000e-04\n",
      "Epoch 13/50\n",
      "6/6 [==============================] - 3s 472ms/step - loss: 3180.8433 - mean_absolute_error: 35.6690 - mean_squared_error: 3180.8433 - root_mean_squared_error: 56.3990 - val_loss: 1891.9360 - val_mean_absolute_error: 31.1979 - val_mean_squared_error: 1891.9360 - val_root_mean_squared_error: 43.4964 - lr: 1.0000e-04\n",
      "Epoch 14/50\n",
      "6/6 [==============================] - 3s 480ms/step - loss: 3130.4888 - mean_absolute_error: 35.1716 - mean_squared_error: 3130.4888 - root_mean_squared_error: 55.9508 - val_loss: 1882.6371 - val_mean_absolute_error: 31.0327 - val_mean_squared_error: 1882.6371 - val_root_mean_squared_error: 43.3894 - lr: 1.0000e-04\n",
      "Epoch 15/50\n",
      "6/6 [==============================] - 3s 477ms/step - loss: 3111.7229 - mean_absolute_error: 35.2092 - mean_squared_error: 3111.7229 - root_mean_squared_error: 55.7828 - val_loss: 1873.3179 - val_mean_absolute_error: 30.8427 - val_mean_squared_error: 1873.3179 - val_root_mean_squared_error: 43.2818 - lr: 1.0000e-04\n",
      "Epoch 16/50\n",
      "6/6 [==============================] - 3s 478ms/step - loss: 3082.9329 - mean_absolute_error: 35.0681 - mean_squared_error: 3082.9329 - root_mean_squared_error: 55.5242 - val_loss: 1866.5280 - val_mean_absolute_error: 30.7929 - val_mean_squared_error: 1866.5280 - val_root_mean_squared_error: 43.2033 - lr: 1.0000e-04\n",
      "Epoch 17/50\n",
      "6/6 [==============================] - 3s 480ms/step - loss: 3092.3254 - mean_absolute_error: 35.2267 - mean_squared_error: 3092.3254 - root_mean_squared_error: 55.6087 - val_loss: 1861.0430 - val_mean_absolute_error: 30.8156 - val_mean_squared_error: 1861.0430 - val_root_mean_squared_error: 43.1398 - lr: 1.0000e-04\n",
      "Epoch 18/50\n",
      "6/6 [==============================] - 3s 545ms/step - loss: 3114.3037 - mean_absolute_error: 35.2546 - mean_squared_error: 3114.3037 - root_mean_squared_error: 55.8059 - val_loss: 1853.8446 - val_mean_absolute_error: 30.7327 - val_mean_squared_error: 1853.8446 - val_root_mean_squared_error: 43.0563 - lr: 1.0000e-04\n",
      "Epoch 19/50\n",
      "6/6 [==============================] - 3s 482ms/step - loss: 3048.9851 - mean_absolute_error: 34.8928 - mean_squared_error: 3048.9851 - root_mean_squared_error: 55.2176 - val_loss: 1846.6277 - val_mean_absolute_error: 30.6437 - val_mean_squared_error: 1846.6277 - val_root_mean_squared_error: 42.9724 - lr: 1.0000e-04\n",
      "Epoch 20/50\n",
      "6/6 [==============================] - 3s 483ms/step - loss: 2992.7349 - mean_absolute_error: 34.3716 - mean_squared_error: 2992.7349 - root_mean_squared_error: 54.7059 - val_loss: 1839.9293 - val_mean_absolute_error: 30.5605 - val_mean_squared_error: 1839.9293 - val_root_mean_squared_error: 42.8944 - lr: 1.0000e-04\n",
      "Epoch 21/50\n",
      "6/6 [==============================] - 3s 479ms/step - loss: 3000.5518 - mean_absolute_error: 34.6569 - mean_squared_error: 3000.5518 - root_mean_squared_error: 54.7773 - val_loss: 1838.0931 - val_mean_absolute_error: 30.7093 - val_mean_squared_error: 1838.0931 - val_root_mean_squared_error: 42.8730 - lr: 1.0000e-04\n",
      "Epoch 22/50\n",
      "6/6 [==============================] - 3s 484ms/step - loss: 3013.8003 - mean_absolute_error: 34.4944 - mean_squared_error: 3013.8003 - root_mean_squared_error: 54.8981 - val_loss: 1833.6318 - val_mean_absolute_error: 30.7290 - val_mean_squared_error: 1833.6318 - val_root_mean_squared_error: 42.8209 - lr: 1.0000e-04\n",
      "Epoch 23/50\n",
      "6/6 [==============================] - 3s 486ms/step - loss: 3029.0105 - mean_absolute_error: 34.3756 - mean_squared_error: 3029.0105 - root_mean_squared_error: 55.0364 - val_loss: 1828.7198 - val_mean_absolute_error: 30.7271 - val_mean_squared_error: 1828.7198 - val_root_mean_squared_error: 42.7635 - lr: 1.0000e-04\n",
      "Epoch 24/50\n",
      "6/6 [==============================] - 3s 486ms/step - loss: 2982.6426 - mean_absolute_error: 34.4131 - mean_squared_error: 2982.6426 - root_mean_squared_error: 54.6136 - val_loss: 1821.1917 - val_mean_absolute_error: 30.5946 - val_mean_squared_error: 1821.1917 - val_root_mean_squared_error: 42.6754 - lr: 1.0000e-04\n",
      "Epoch 25/50\n",
      "6/6 [==============================] - 3s 483ms/step - loss: 2929.1604 - mean_absolute_error: 33.7825 - mean_squared_error: 2929.1604 - root_mean_squared_error: 54.1217 - val_loss: 1814.2675 - val_mean_absolute_error: 30.4688 - val_mean_squared_error: 1814.2675 - val_root_mean_squared_error: 42.5942 - lr: 1.0000e-04\n",
      "Epoch 26/50\n",
      "6/6 [==============================] - 3s 490ms/step - loss: 2935.2852 - mean_absolute_error: 33.7328 - mean_squared_error: 2935.2852 - root_mean_squared_error: 54.1783 - val_loss: 1807.6731 - val_mean_absolute_error: 30.3379 - val_mean_squared_error: 1807.6731 - val_root_mean_squared_error: 42.5167 - lr: 1.0000e-04\n",
      "Epoch 27/50\n",
      "6/6 [==============================] - 3s 492ms/step - loss: 2928.0564 - mean_absolute_error: 33.8184 - mean_squared_error: 2928.0564 - root_mean_squared_error: 54.1115 - val_loss: 1803.1176 - val_mean_absolute_error: 30.3146 - val_mean_squared_error: 1803.1176 - val_root_mean_squared_error: 42.4631 - lr: 1.0000e-04\n",
      "Epoch 28/50\n",
      "6/6 [==============================] - 3s 502ms/step - loss: 2971.1787 - mean_absolute_error: 33.6757 - mean_squared_error: 2971.1787 - root_mean_squared_error: 54.5085 - val_loss: 1798.3121 - val_mean_absolute_error: 30.2787 - val_mean_squared_error: 1798.3121 - val_root_mean_squared_error: 42.4065 - lr: 1.0000e-04\n",
      "Epoch 29/50\n",
      "6/6 [==============================] - 3s 509ms/step - loss: 2885.4143 - mean_absolute_error: 33.3017 - mean_squared_error: 2885.4143 - root_mean_squared_error: 53.7161 - val_loss: 1792.9631 - val_mean_absolute_error: 30.2030 - val_mean_squared_error: 1792.9631 - val_root_mean_squared_error: 42.3434 - lr: 1.0000e-04\n",
      "Epoch 30/50\n",
      "6/6 [==============================] - 3s 495ms/step - loss: 2928.6523 - mean_absolute_error: 33.2606 - mean_squared_error: 2928.6523 - root_mean_squared_error: 54.1170 - val_loss: 1786.3370 - val_mean_absolute_error: 30.0754 - val_mean_squared_error: 1786.3370 - val_root_mean_squared_error: 42.2651 - lr: 1.0000e-04\n",
      "Epoch 31/50\n",
      "6/6 [==============================] - 3s 496ms/step - loss: 2833.2961 - mean_absolute_error: 32.6960 - mean_squared_error: 2833.2961 - root_mean_squared_error: 53.2287 - val_loss: 1780.7850 - val_mean_absolute_error: 29.9641 - val_mean_squared_error: 1780.7850 - val_root_mean_squared_error: 42.1993 - lr: 1.0000e-04\n",
      "Epoch 32/50\n",
      "6/6 [==============================] - 3s 501ms/step - loss: 2883.5686 - mean_absolute_error: 33.3933 - mean_squared_error: 2883.5686 - root_mean_squared_error: 53.6989 - val_loss: 1777.9402 - val_mean_absolute_error: 30.0214 - val_mean_squared_error: 1777.9402 - val_root_mean_squared_error: 42.1656 - lr: 1.0000e-04\n",
      "Epoch 33/50\n",
      "6/6 [==============================] - 3s 561ms/step - loss: 2881.2930 - mean_absolute_error: 33.1122 - mean_squared_error: 2881.2930 - root_mean_squared_error: 53.6777 - val_loss: 1773.5962 - val_mean_absolute_error: 29.9697 - val_mean_squared_error: 1773.5962 - val_root_mean_squared_error: 42.1141 - lr: 1.0000e-04\n",
      "Epoch 34/50\n",
      "6/6 [==============================] - 3s 494ms/step - loss: 2853.3931 - mean_absolute_error: 33.2856 - mean_squared_error: 2853.3931 - root_mean_squared_error: 53.4172 - val_loss: 1769.4290 - val_mean_absolute_error: 29.9562 - val_mean_squared_error: 1769.4290 - val_root_mean_squared_error: 42.0646 - lr: 1.0000e-04\n",
      "Epoch 35/50\n",
      "6/6 [==============================] - 3s 496ms/step - loss: 2777.3533 - mean_absolute_error: 32.5165 - mean_squared_error: 2777.3533 - root_mean_squared_error: 52.7006 - val_loss: 1763.0837 - val_mean_absolute_error: 29.7832 - val_mean_squared_error: 1763.0837 - val_root_mean_squared_error: 41.9891 - lr: 1.0000e-04\n",
      "Epoch 36/50\n",
      "6/6 [==============================] - 3s 495ms/step - loss: 2802.9722 - mean_absolute_error: 32.6009 - mean_squared_error: 2802.9722 - root_mean_squared_error: 52.9431 - val_loss: 1759.2922 - val_mean_absolute_error: 29.7584 - val_mean_squared_error: 1759.2922 - val_root_mean_squared_error: 41.9439 - lr: 1.0000e-04\n",
      "Epoch 37/50\n",
      "6/6 [==============================] - 3s 492ms/step - loss: 2741.0984 - mean_absolute_error: 32.1569 - mean_squared_error: 2741.0984 - root_mean_squared_error: 52.3555 - val_loss: 1756.7196 - val_mean_absolute_error: 29.8038 - val_mean_squared_error: 1756.7196 - val_root_mean_squared_error: 41.9132 - lr: 1.0000e-04\n",
      "Epoch 38/50\n",
      "6/6 [==============================] - 3s 492ms/step - loss: 2748.1018 - mean_absolute_error: 32.2172 - mean_squared_error: 2748.1018 - root_mean_squared_error: 52.4223 - val_loss: 1752.9481 - val_mean_absolute_error: 29.7657 - val_mean_squared_error: 1752.9481 - val_root_mean_squared_error: 41.8682 - lr: 1.0000e-04\n",
      "Epoch 39/50\n",
      "6/6 [==============================] - 3s 491ms/step - loss: 2745.2542 - mean_absolute_error: 32.4597 - mean_squared_error: 2745.2542 - root_mean_squared_error: 52.3952 - val_loss: 1749.3942 - val_mean_absolute_error: 29.7136 - val_mean_squared_error: 1749.3942 - val_root_mean_squared_error: 41.8258 - lr: 1.0000e-04\n",
      "Epoch 40/50\n",
      "6/6 [==============================] - 3s 491ms/step - loss: 2796.1423 - mean_absolute_error: 32.6822 - mean_squared_error: 2796.1423 - root_mean_squared_error: 52.8786 - val_loss: 1746.9407 - val_mean_absolute_error: 29.7156 - val_mean_squared_error: 1746.9407 - val_root_mean_squared_error: 41.7964 - lr: 1.0000e-04\n",
      "Epoch 41/50\n",
      "6/6 [==============================] - 3s 492ms/step - loss: 2721.7612 - mean_absolute_error: 32.2924 - mean_squared_error: 2721.7612 - root_mean_squared_error: 52.1705 - val_loss: 1742.2719 - val_mean_absolute_error: 29.5948 - val_mean_squared_error: 1742.2719 - val_root_mean_squared_error: 41.7405 - lr: 1.0000e-04\n",
      "Epoch 42/50\n",
      "6/6 [==============================] - 3s 488ms/step - loss: 2710.7761 - mean_absolute_error: 31.8278 - mean_squared_error: 2710.7761 - root_mean_squared_error: 52.0651 - val_loss: 1740.2148 - val_mean_absolute_error: 29.6473 - val_mean_squared_error: 1740.2148 - val_root_mean_squared_error: 41.7159 - lr: 1.0000e-04\n",
      "Epoch 43/50\n",
      "6/6 [==============================] - 3s 477ms/step - loss: 2697.1992 - mean_absolute_error: 32.1587 - mean_squared_error: 2697.1992 - root_mean_squared_error: 51.9346 - val_loss: 1740.9524 - val_mean_absolute_error: 29.8115 - val_mean_squared_error: 1740.9524 - val_root_mean_squared_error: 41.7247 - lr: 1.0000e-04\n",
      "Epoch 44/50\n",
      "6/6 [==============================] - 3s 479ms/step - loss: 2669.9285 - mean_absolute_error: 31.8463 - mean_squared_error: 2669.9285 - root_mean_squared_error: 51.6713 - val_loss: 1743.3564 - val_mean_absolute_error: 30.0254 - val_mean_squared_error: 1743.3564 - val_root_mean_squared_error: 41.7535 - lr: 1.0000e-04\n",
      "Epoch 45/50\n",
      "6/6 [==============================] - 3s 479ms/step - loss: 2667.4392 - mean_absolute_error: 32.5287 - mean_squared_error: 2667.4392 - root_mean_squared_error: 51.6473 - val_loss: 1740.8136 - val_mean_absolute_error: 30.0034 - val_mean_squared_error: 1740.8136 - val_root_mean_squared_error: 41.7231 - lr: 1.0000e-04\n",
      "Epoch 46/50\n",
      "6/6 [==============================] - 3s 486ms/step - loss: 2673.5042 - mean_absolute_error: 31.8050 - mean_squared_error: 2673.5042 - root_mean_squared_error: 51.7059 - val_loss: 1739.5466 - val_mean_absolute_error: 29.9682 - val_mean_squared_error: 1739.5466 - val_root_mean_squared_error: 41.7079 - lr: 2.0000e-05\n",
      "Epoch 47/50\n",
      "6/6 [==============================] - 3s 486ms/step - loss: 2673.3845 - mean_absolute_error: 32.0803 - mean_squared_error: 2673.3845 - root_mean_squared_error: 51.7048 - val_loss: 1738.5907 - val_mean_absolute_error: 29.9450 - val_mean_squared_error: 1738.5907 - val_root_mean_squared_error: 41.6964 - lr: 2.0000e-05\n",
      "Epoch 48/50\n",
      "6/6 [==============================] - 3s 488ms/step - loss: 2632.7681 - mean_absolute_error: 31.8965 - mean_squared_error: 2632.7681 - root_mean_squared_error: 51.3105 - val_loss: 1736.9329 - val_mean_absolute_error: 29.8929 - val_mean_squared_error: 1736.9329 - val_root_mean_squared_error: 41.6765 - lr: 2.0000e-05\n",
      "Epoch 49/50\n",
      "6/6 [==============================] - 3s 489ms/step - loss: 2673.2061 - mean_absolute_error: 31.7003 - mean_squared_error: 2673.2061 - root_mean_squared_error: 51.7031 - val_loss: 1736.3026 - val_mean_absolute_error: 29.8824 - val_mean_squared_error: 1736.3026 - val_root_mean_squared_error: 41.6690 - lr: 2.0000e-05\n",
      "Epoch 50/50\n",
      "6/6 [==============================] - 3s 488ms/step - loss: 2681.3105 - mean_absolute_error: 31.7636 - mean_squared_error: 2681.3105 - root_mean_squared_error: 51.7814 - val_loss: 1734.6195 - val_mean_absolute_error: 29.8261 - val_mean_squared_error: 1734.6195 - val_root_mean_squared_error: 41.6488 - lr: 2.0000e-05\n",
      "8/8 [==============================] - 6s 451ms/step\n",
      "Mean Squared Error (MSE): 1525.7710473950826\n",
      "Mean Absolute Error (MAE): 27.080329010009766\n",
      "R-squared (R^2): 0.06252848940455313\n"
     ]
    }
   ]
  },
  {
   "cell_type": "code",
   "source": [
    "diff = test_pred.flatten() - y_test\n",
    "percentDiff = (diff / y_test) * 100\n",
    "absPercentDiff = np.abs(percentDiff)\n",
    "# compute the mean and standard deviation of the absolute percentage\n",
    "# difference\n",
    "mean = np.mean(absPercentDiff)\n",
    "std = np.std(absPercentDiff)\n",
    "# finally, show some statistics on our model\n",
    "locale.setlocale(locale.LC_ALL, \"en_US.UTF-8\")\n",
    "print(\"[INFO] avg. house price: {}, std house price: {}\".format(\n",
    "    locale.currency(df_train[\"Price\"].mean(), grouping=True),\n",
    "    locale.currency(df_train[\"Price\"].std(), grouping=True)))\n",
    "print(\"[INFO] mean: {:.2f}%, std: {:.2f}%\".format(mean, std))\n",
    " # Create a grid of subplots that shares the y-axis across rows and the x-axis across columns\n",
    "fig = plt.figure(figsize=(12, 10))\n",
    "gs = gridspec.GridSpec(nrows=2, ncols=2, figure=fig, hspace=0.5, wspace=0.2, height_ratios=[1, 1])\n",
    "\n",
    "# Plot the training and validation curves for each metric\n",
    "for i, metric in enumerate(['mean_absolute_error', 'mean_squared_error', 'root_mean_squared_error']):\n",
    "    row = i // 2\n",
    "    col = i % 2\n",
    "    ax = fig.add_subplot(gs[row, col])\n",
    "    ax.plot(history.history[metric], label='Training')\n",
    "    ax.plot(history.history['val_' + metric], label='Validation')\n",
    "    ax.set_title(metric)\n",
    "    ax.set_xlabel('Epoch')\n",
    "    ax.set_ylabel(metric)\n",
    "    ax.legend(loc='upper right')\n",
    "plt.show()"
   ],
   "metadata": {
    "colab": {
     "base_uri": "https://localhost:8080/",
     "height": 657
    },
    "id": "fxg9wFt0fvfW",
    "executionInfo": {
     "status": "ok",
     "timestamp": 1676836533713,
     "user_tz": 360,
     "elapsed": 419,
     "user": {
      "displayName": "Rogelio Bautista",
      "userId": "09685885284832322578"
     }
    },
    "outputId": "7c5d9eac-15a7-4dd9-a1d6-8c2eccd671bc",
    "pycharm": {
     "name": "#%%\n"
    }
   },
   "execution_count": 14,
   "outputs": [
    {
     "output_type": "stream",
     "name": "stdout",
     "text": [
      "[INFO] avg. house price: $64.59, std house price: $55.36\n",
      "[INFO] mean: 63.57%, std: 70.86%\n"
     ]
    },
    {
     "output_type": "display_data",
     "data": {
      "text/plain": [
       "<Figure size 864x720 with 3 Axes>"
      ],
      "image/png": "[encoded data removed]"
     },
     "metadata": {
      "needs_background": "light"
     }
    }
   ]
  },
  {
   "cell_type": "markdown",
   "source": [
    "#### No está mal, sin embargo, vamos a probar entrenando mas capas de la red y añadiendo las 2 ultimas a VGG16"
   ],
   "metadata": {
    "collapsed": false,
    "pycharm": {
     "name": "#%% md\n"
    }
   }
  },
  {
   "cell_type": "markdown",
   "source": [
    "### Transfer learning modificando mas capas"
   ],
   "metadata": {
    "id": "yvI4v7HX7wP7",
    "pycharm": {
     "name": "#%% md\n"
    }
   }
  },
  {
   "cell_type": "code",
   "source": [
    "import tensorflow as tf\n",
    "from tensorflow.keras import layers\n",
    "from tensorflow.keras import models\n",
    "from tensorflow.keras import optimizers\n",
    "from tensorflow.keras.applications import ResNet50V2\n",
    "from tensorflow.keras.callbacks import EarlyStopping, ReduceLROnPlateau\n",
    "from sklearn.metrics import mean_squared_error, mean_absolute_error, r2_score\n",
    "from tensorflow.keras import metrics \n",
    "\n",
    "# Load the ResNet50V2 model without the top layers and set it to non-trainable\n",
    "# base_model = ResNet50V2(input_shape=(224, 224, 3), include_top=False, weights='imagenet')\n",
    "base_model_2 = VGG16(input_shape=(224, 224, 3), include_top=False, weights='imagenet')\n",
    "\n",
    "# Add a custom top to the model for regression\n",
    "\"\"\"\n",
    "x = layers.Flatten()(base_model_2.output)\n",
    "x = layers.Dense(64, activation='relu')(x)\n",
    "x = layers.Dropout(0.2)(x)\n",
    "x = layers.Dense(1, activation='linear')(x)\n",
    "\"\"\"\n",
    "\n",
    "# add a global spatial average pooling layer\n",
    "x = base_model_2.output\n",
    "x = Dropout(.5)(x)\n",
    "x = GlobalAveragePooling2D()(x)\n",
    "x = Dropout(.5)(x)\n",
    "# let's add a fully-connected layer\n",
    "x = Dense(1024, activation='selu')(x)\n",
    "x = Dropout(.5)(x)\n",
    "# and output layer\n",
    "predictions = Dense(1)(x)\n",
    "\n",
    "# Compile the model\n",
    "# model2 = models.Model(base_model_2.input, x)\n",
    "# this is the model we will train\n",
    "model2 = Model(inputs=base_model_2.input, outputs=predictions)\n",
    "\n",
    "# let's visualize layer names and layer indices to see how many layers\n",
    "# we should freeze:\n",
    "for i, layer in enumerate(base_model_2.layers):\n",
    "   print(i, layer.name)\n",
    "\n",
    "# we chose to train the top 2 inception blocks, i.e. we will freeze\n",
    "# the first 249 layers and unfreeze the rest:\n",
    "for layer in model2.layers[:16]:\n",
    "   layer.trainable = False\n",
    "for layer in model2.layers[16:]:\n",
    "   layer.trainable = True"
   ],
   "metadata": {
    "colab": {
     "base_uri": "https://localhost:8080/"
    },
    "id": "zrvXUfPG7vt8",
    "executionInfo": {
     "status": "ok",
     "timestamp": 1676836558202,
     "user_tz": 360,
     "elapsed": 526,
     "user": {
      "displayName": "Rogelio Bautista",
      "userId": "09685885284832322578"
     }
    },
    "outputId": "d1d535ff-f6e3-4344-d284-5eb0e688cb90",
    "pycharm": {
     "name": "#%%\n"
    }
   },
   "execution_count": 15,
   "outputs": [
    {
     "output_type": "stream",
     "name": "stdout",
     "text": [
      "0 input_3\n",
      "1 block1_conv1\n",
      "2 block1_conv2\n",
      "3 block1_pool\n",
      "4 block2_conv1\n",
      "5 block2_conv2\n",
      "6 block2_pool\n",
      "7 block3_conv1\n",
      "8 block3_conv2\n",
      "9 block3_conv3\n",
      "10 block3_pool\n",
      "11 block4_conv1\n",
      "12 block4_conv2\n",
      "13 block4_conv3\n",
      "14 block4_pool\n",
      "15 block5_conv1\n",
      "16 block5_conv2\n",
      "17 block5_conv3\n",
      "18 block5_pool\n"
     ]
    }
   ]
  },
  {
   "cell_type": "code",
   "source": [
    "\n",
    "\n",
    "#model2.compile(optimizer=SGD(lr=0.00001, momentum=0.99), loss='mse',metrics=['mse','mae'])\n",
    "\n",
    "\n",
    "model2.compile(optimizer=optimizers.Adam(learning_rate=1e-4), loss='mse', \n",
    "              metrics=[\n",
    "                  metrics.MeanAbsoluteError(), \n",
    "                  metrics.MeanSquaredError(), \n",
    "                  metrics.RootMeanSquaredError()])\n",
    "\n",
    "# Define the callbacks for training\n",
    "early_stopping = EarlyStopping(monitor='val_loss', patience=5, restore_best_weights=True)\n",
    "reduce_lr = ReduceLROnPlateau(monitor='val_loss', factor=0.2, patience=3, min_lr=1e-6)\n",
    "\n",
    "# Train the model\n",
    "history = model2.fit(x=trainImagesX, y=y_train, batch_size=128, steps_per_epoch=10, epochs=50, validation_data=(valImagesX, y_val), callbacks=[early_stopping, reduce_lr], verbose=1)\n",
    "\n",
    "# Evaluate the model on the test set\n",
    "test_pred = model2.predict(x_test_images)\n",
    "mse = mean_squared_error(y_test, test_pred)\n",
    "mae = mean_absolute_error(y_test, test_pred)\n",
    "r2 = r2_score(y_test, test_pred)\n",
    "\n",
    "# Print the evaluation metrics\n",
    "print('Mean Squared Error (MSE):', mse)\n",
    "print('Mean Absolute Error (MAE):', mae)\n",
    "print('R-squared (R^2):', r2)"
   ],
   "metadata": {
    "colab": {
     "base_uri": "https://localhost:8080/"
    },
    "id": "3Iop6zNE7tVt",
    "executionInfo": {
     "status": "ok",
     "timestamp": 1676836661923,
     "user_tz": 360,
     "elapsed": 77514,
     "user": {
      "displayName": "Rogelio Bautista",
      "userId": "09685885284832322578"
     }
    },
    "outputId": "677ec088-cb14-4a34-d00d-42efb2f9a239",
    "pycharm": {
     "name": "#%%\n"
    }
   },
   "execution_count": 16,
   "outputs": [
    {
     "output_type": "stream",
     "name": "stdout",
     "text": [
      "Epoch 1/50\n",
      "10/10 [==============================] - 10s 662ms/step - loss: 6603.9141 - mean_absolute_error: 56.5225 - mean_squared_error: 6603.9141 - root_mean_squared_error: 81.2645 - val_loss: 2725.7820 - val_mean_absolute_error: 32.7183 - val_mean_squared_error: 2725.7820 - val_root_mean_squared_error: 52.2090 - lr: 1.0000e-04\n",
      "Epoch 2/50\n",
      "10/10 [==============================] - 6s 561ms/step - loss: 3304.5513 - mean_absolute_error: 37.9927 - mean_squared_error: 3304.5513 - root_mean_squared_error: 57.4852 - val_loss: 2589.5408 - val_mean_absolute_error: 43.9644 - val_mean_squared_error: 2589.5408 - val_root_mean_squared_error: 50.8875 - lr: 1.0000e-04\n",
      "Epoch 3/50\n",
      "10/10 [==============================] - 6s 561ms/step - loss: 3180.7493 - mean_absolute_error: 37.2736 - mean_squared_error: 3180.7493 - root_mean_squared_error: 56.3981 - val_loss: 1850.0961 - val_mean_absolute_error: 30.4538 - val_mean_squared_error: 1850.0961 - val_root_mean_squared_error: 43.0127 - lr: 1.0000e-04\n",
      "Epoch 4/50\n",
      "10/10 [==============================] - 6s 606ms/step - loss: 3280.0435 - mean_absolute_error: 34.6238 - mean_squared_error: 3280.0435 - root_mean_squared_error: 57.2717 - val_loss: 1953.8092 - val_mean_absolute_error: 34.2694 - val_mean_squared_error: 1953.8092 - val_root_mean_squared_error: 44.2019 - lr: 1.0000e-04\n",
      "Epoch 5/50\n",
      "10/10 [==============================] - 6s 562ms/step - loss: 2912.2397 - mean_absolute_error: 35.2277 - mean_squared_error: 2912.2397 - root_mean_squared_error: 53.9652 - val_loss: 1885.0309 - val_mean_absolute_error: 32.9052 - val_mean_squared_error: 1885.0309 - val_root_mean_squared_error: 43.4169 - lr: 1.0000e-04\n",
      "Epoch 6/50\n",
      "10/10 [==============================] - 6s 564ms/step - loss: 3054.9099 - mean_absolute_error: 35.0671 - mean_squared_error: 3054.9099 - root_mean_squared_error: 55.2712 - val_loss: 1865.4263 - val_mean_absolute_error: 32.6901 - val_mean_squared_error: 1865.4263 - val_root_mean_squared_error: 43.1906 - lr: 1.0000e-04\n",
      "Epoch 7/50\n",
      "10/10 [==============================] - 6s 618ms/step - loss: 3031.8120 - mean_absolute_error: 34.8718 - mean_squared_error: 3031.8120 - root_mean_squared_error: 55.0619 - val_loss: 1849.6173 - val_mean_absolute_error: 32.3173 - val_mean_squared_error: 1849.6173 - val_root_mean_squared_error: 43.0072 - lr: 2.0000e-05\n",
      "Epoch 8/50\n",
      "10/10 [==============================] - 6s 568ms/step - loss: 3295.8359 - mean_absolute_error: 35.2527 - mean_squared_error: 3295.8359 - root_mean_squared_error: 57.4094 - val_loss: 1857.0486 - val_mean_absolute_error: 32.5960 - val_mean_squared_error: 1857.0486 - val_root_mean_squared_error: 43.0935 - lr: 2.0000e-05\n",
      "Epoch 9/50\n",
      "10/10 [==============================] - 6s 564ms/step - loss: 2749.0410 - mean_absolute_error: 33.5156 - mean_squared_error: 2749.0410 - root_mean_squared_error: 52.4313 - val_loss: 1860.7404 - val_mean_absolute_error: 32.7558 - val_mean_squared_error: 1860.7404 - val_root_mean_squared_error: 43.1363 - lr: 2.0000e-05\n",
      "Epoch 10/50\n",
      "10/10 [==============================] - 6s 611ms/step - loss: 2964.0105 - mean_absolute_error: 34.8782 - mean_squared_error: 2964.0105 - root_mean_squared_error: 54.4427 - val_loss: 1890.0958 - val_mean_absolute_error: 33.4779 - val_mean_squared_error: 1890.0958 - val_root_mean_squared_error: 43.4752 - lr: 2.0000e-05\n",
      "Epoch 11/50\n",
      "10/10 [==============================] - 6s 561ms/step - loss: 2974.9346 - mean_absolute_error: 34.8892 - mean_squared_error: 2974.9346 - root_mean_squared_error: 54.5430 - val_loss: 1884.8267 - val_mean_absolute_error: 33.3714 - val_mean_squared_error: 1884.8267 - val_root_mean_squared_error: 43.4146 - lr: 4.0000e-06\n",
      "Epoch 12/50\n",
      "10/10 [==============================] - 6s 563ms/step - loss: 3050.8767 - mean_absolute_error: 35.7666 - mean_squared_error: 3050.8767 - root_mean_squared_error: 55.2347 - val_loss: 1876.3696 - val_mean_absolute_error: 33.1907 - val_mean_squared_error: 1876.3696 - val_root_mean_squared_error: 43.3171 - lr: 4.0000e-06\n",
      "8/8 [==============================] - 1s 115ms/step\n",
      "Mean Squared Error (MSE): 1616.8912353572598\n",
      "Mean Absolute Error (MAE): 29.61972021484375\n",
      "R-squared (R^2): 0.006541989725926012\n"
     ]
    }
   ]
  },
  {
   "cell_type": "code",
   "source": [
    "diff = test_pred.flatten() - y_test\n",
    "percentDiff = (diff / y_test) * 100\n",
    "absPercentDiff = np.abs(percentDiff)\n",
    "# compute the mean and standard deviation of the absolute percentage\n",
    "# difference\n",
    "mean = np.mean(absPercentDiff)\n",
    "std = np.std(absPercentDiff)\n",
    "# finally, show some statistics on our model\n",
    "locale.setlocale(locale.LC_ALL, \"en_US.UTF-8\")\n",
    "print(\"[INFO] avg. house price: {}, std house price: {}\".format(\n",
    "    locale.currency(df_train[\"Price\"].mean(), grouping=True),\n",
    "    locale.currency(df_train[\"Price\"].std(), grouping=True)))\n",
    "print(\"[INFO] mean: {:.2f}%, std: {:.2f}%\".format(mean, std))\n",
    " # Create a grid of subplots that shares the y-axis across rows and the x-axis across columns\n",
    "fig = plt.figure(figsize=(12, 10))\n",
    "gs = gridspec.GridSpec(nrows=2, ncols=2, figure=fig, hspace=0.5, wspace=0.2, height_ratios=[1, 1])\n",
    "\n",
    "# Plot the training and validation curves for each metric\n",
    "for i, metric in enumerate(['mean_absolute_error', 'mean_squared_error', 'root_mean_squared_error']):\n",
    "    row = i // 2\n",
    "    col = i % 2\n",
    "    ax = fig.add_subplot(gs[row, col])\n",
    "    ax.plot(history.history[metric], label='Training')\n",
    "    ax.plot(history.history['val_' + metric], label='Validation')\n",
    "    ax.set_title(metric)\n",
    "    ax.set_xlabel('Epoch')\n",
    "    ax.set_ylabel(metric)\n",
    "    ax.legend(loc='upper right')\n",
    "plt.show()"
   ],
   "metadata": {
    "colab": {
     "base_uri": "https://localhost:8080/",
     "height": 657
    },
    "id": "N5u-TRsU7tZw",
    "executionInfo": {
     "status": "ok",
     "timestamp": 1676836683857,
     "user_tz": 360,
     "elapsed": 1009,
     "user": {
      "displayName": "Rogelio Bautista",
      "userId": "09685885284832322578"
     }
    },
    "outputId": "39fadacc-01a4-4285-fc8d-5fcf891a9ba2",
    "pycharm": {
     "name": "#%%\n"
    }
   },
   "execution_count": 17,
   "outputs": [
    {
     "output_type": "stream",
     "name": "stdout",
     "text": [
      "[INFO] avg. house price: $64.59, std house price: $55.36\n",
      "[INFO] mean: 73.73%, std: 80.37%\n"
     ]
    },
    {
     "output_type": "display_data",
     "data": {
      "text/plain": [
       "<Figure size 864x720 with 3 Axes>"
      ],
      "image/png": "[encoded data removed]"
     },
     "metadata": {
      "needs_background": "light"
     }
    }
   ]
  },
  {
   "cell_type": "code",
   "source": [
    "print(np.sqrt(np.mean((test_pred - y_test)**2)))"
   ],
   "metadata": {
    "colab": {
     "base_uri": "https://localhost:8080/"
    },
    "id": "st-0BCaL7tcj",
    "executionInfo": {
     "status": "ok",
     "timestamp": 1676836697860,
     "user_tz": 360,
     "elapsed": 1100,
     "user": {
      "displayName": "Rogelio Bautista",
      "userId": "09685885284832322578"
     }
    },
    "outputId": "e8c06274-fd16-4476-a05a-e7d865b7ff7c",
    "pycharm": {
     "name": "#%%\n"
    }
   },
   "execution_count": 18,
   "outputs": [
    {
     "output_type": "stream",
     "name": "stdout",
     "text": [
      "41.93489369394706\n"
     ]
    }
   ]
  },
  {
   "cell_type": "code",
   "source": [
    "# Guardamos el modelo \n",
    "#model2.save('transfer_l_v2')"
   ],
   "metadata": {
    "colab": {
     "base_uri": "https://localhost:8080/"
    },
    "id": "y8--bbjq7te2",
    "executionInfo": {
     "status": "ok",
     "timestamp": 1676782847890,
     "user_tz": 360,
     "elapsed": 5364,
     "user": {
      "displayName": "Rogelio Bautista",
      "userId": "09685885284832322578"
     }
    },
    "outputId": "31ddab6c-c7cf-48a0-ad72-04de262534b6",
    "pycharm": {
     "name": "#%%\n"
    }
   },
   "execution_count": null,
   "outputs": [
    {
     "output_type": "stream",
     "name": "stderr",
     "text": [
      "WARNING:absl:Found untraced functions such as _jit_compiled_convolution_op, _jit_compiled_convolution_op, _jit_compiled_convolution_op, _jit_compiled_convolution_op, _jit_compiled_convolution_op while saving (showing 5 of 13). These functions will not be directly callable after loading.\n"
     ]
    }
   ]
  },
  {
   "cell_type": "code",
   "source": [
    "#!cp -r transfer_l_v2 /content/drive/My\\ Drive/deep-learning-rogelio/transfer_l_v2"
   ],
   "metadata": {
    "id": "f3jR8k-0C6qr",
    "pycharm": {
     "name": "#%%\n"
    }
   },
   "execution_count": null,
   "outputs": []
  },
  {
   "cell_type": "code",
   "source": [
    "model2.save('transfer_l_v2.h5')\n",
    "!cp -r transfer_l_v2.h5 /content/drive/My\\ Drive/deep-learning-rogelio/transfer_l_v2.h5"
   ],
   "metadata": {
    "id": "AvgZkgbeDcKw",
    "executionInfo": {
     "status": "ok",
     "timestamp": 1676836753213,
     "user_tz": 360,
     "elapsed": 1886,
     "user": {
      "displayName": "Rogelio Bautista",
      "userId": "09685885284832322578"
     }
    },
    "pycharm": {
     "name": "#%%\n"
    }
   },
   "execution_count": 19,
   "outputs": []
  },
  {
   "cell_type": "markdown",
   "source": [
    "## Se ve un poco mas prometedor el modelo, ya que se observan fluctuaciones, lo ideal es buscar buenos parámetros y ver si modificando capas especificas podemos mejorar el modelo"
   ],
   "metadata": {
    "collapsed": false,
    "pycharm": {
     "name": "#%% md\n"
    }
   }
  },
  {
   "cell_type": "code",
   "execution_count": null,
   "outputs": [],
   "source": [],
   "metadata": {
    "collapsed": false,
    "pycharm": {
     "name": "#%%\n"
    }
   }
  }
 ],
 "metadata": {
  "kernelspec": {
   "display_name": "Python 3",
   "language": "python",
   "name": "python3"
  },
  "language_info": {
   "codemirror_mode": {
    "name": "ipython",
    "version": 2
   },
   "file_extension": ".py",
   "mimetype": "text/x-python",
   "name": "python",
   "nbconvert_exporter": "python",
   "pygments_lexer": "ipython2",
   "version": "2.7.6"
  },
  "colab": {
   "provenance": [],
   "machine_shape": "hm"
  },
  "accelerator": "GPU",
  "gpuClass": "standard"
 },
 "nbformat": 4,
 "nbformat_minor": 0
}