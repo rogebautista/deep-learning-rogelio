{
 "nbformat": 4,
 "nbformat_minor": 0,
 "metadata": {
  "colab": {
   "provenance": []
  },
  "kernelspec": {
   "name": "python3",
   "display_name": "Python 3"
  }
 },
 "cells": [
  {
   "cell_type": "code",
   "metadata": {
    "id": "N0NMM6apsqs-",
    "pycharm": {
     "name": "#%%\n"
    }
   },
   "source": [
    "# Dataset: https://public.opendatasoft.com/explore/dataset/airbnb-listings/export/?disjunctive.host_verifications&disjunctive.amenities&disjunctive.features&refine.country=Spain&q=Madrid\n",
    "# Link directo: https://public.opendatasoft.com/explore/dataset/airbnb-listings/download/?format=csv&disjunctive.host_verifications=true&disjunctive.amenities=true&disjunctive.features=true&refine.country=Spain&q=Madrid&timezone=Europe/London&use_labels_for_header=true&csv_separator=%3B"
   ],
   "execution_count": null,
   "outputs": []
  },
  {
   "cell_type": "code",
   "metadata": {
    "id": "-47tSe6MEAiX",
    "pycharm": {
     "name": "#%%\n"
    }
   },
   "source": [
    "# Recurso para aprender a cargar datos en Colab: \n",
    "# https://colab.research.google.com/notebooks/io.ipynb#scrollTo=RWSJpsyKqHjH"
   ],
   "execution_count": null,
   "outputs": []
  },
  {
   "cell_type": "code",
   "metadata": {
    "id": "11tGGRgrRodv",
    "pycharm": {
     "name": "#%%\n"
    }
   },
   "source": [
    "# Nos descargamos el dataset de OpenDataSoft\n",
    "!wget -O \"airbnb-listings.csv\" \"https://public.opendatasoft.com/explore/dataset/airbnb-listings/download/?format=csv&disjunctive.host_verifications=true&disjunctive.amenities=true&disjunctive.features=true&refine.country=Spain&q=Madrid&timezone=Europe/London&use_labels_for_header=true&csv_separator=%3B\""
   ],
   "execution_count": null,
   "outputs": []
  },
  {
   "cell_type": "code",
   "metadata": {
    "id": "qnlm55IBu_Vv",
    "pycharm": {
     "name": "#%%\n"
    }
   },
   "source": [
    "!ls -lah"
   ],
   "execution_count": null,
   "outputs": []
  },
  {
   "cell_type": "code",
   "metadata": {
    "id": "fHqnNEDmihhO",
    "pycharm": {
     "name": "#%%\n"
    }
   },
   "source": [
    "# Leemos el dataset con pandas y mostramos los 5 primeros registros\n",
    "import pandas as pd\n",
    "data = pd.read_csv('airbnb-listings.csv', sep = ';')\n",
    "data.head(5)"
   ],
   "execution_count": null,
   "outputs": []
  },
  {
   "cell_type": "code",
   "metadata": {
    "id": "5PTgFC8JAClH",
    "pycharm": {
     "name": "#%%\n"
    }
   },
   "source": [
    "# vamos a ver de cuantos registros disponemos y de cuantas variables\n",
    "data.shape"
   ],
   "execution_count": null,
   "outputs": []
  },
  {
   "cell_type": "code",
   "metadata": {
    "id": "vYtz5HYjjdEK",
    "pycharm": {
     "name": "#%%\n"
    }
   },
   "source": [
    "# ¿De qué variables disponemos?\n",
    "data.columns"
   ],
   "execution_count": null,
   "outputs": []
  },
  {
   "cell_type": "markdown",
   "metadata": {
    "id": "tv1BNRNB9V1e",
    "pycharm": {
     "name": "#%% md\n"
    }
   },
   "source": [
    "Cargamos las imágenes en un array para tenerlas disponibles luego"
   ]
  },
  {
   "cell_type": "code",
   "source": [
    "import imageio as io\n",
    "import numpy as np\n",
    "import cv2\n",
    "n_images = 200 #1000\n",
    "images = np.zeros((n_images, 224, 224, 3), dtype=np.uint8)\n",
    "urls = data['Thumbnail Url']\n",
    "\n",
    "i_aux = 0\n",
    "good_urls = []\n",
    "for i_img, url in enumerate(urls):\n",
    "    if len(good_urls) >= n_images:\n",
    "        # ya tenemos n_images imágenes\n",
    "        break\n",
    "    try:\n",
    "        img = io.imread(url)\n",
    "        images[i_aux] = cv2.resize(img, (224, 224))\n",
    "        good_urls.append(i_img)\n",
    "        i_aux += 1\n",
    "        print(f'Imagen {i_img} descargada')\n",
    "        print(len(good_urls))\n",
    "    except IOError as err:\n",
    "        pass"
   ],
   "metadata": {
    "id": "Rf2pobWEHU93",
    "pycharm": {
     "name": "#%%\n"
    }
   },
   "execution_count": null,
   "outputs": []
  },
  {
   "cell_type": "code",
   "source": [
    "# Visualizamos las imágenes cargadas\n",
    "print(images.shape)"
   ],
   "metadata": {
    "id": "-gznEugfHjCl",
    "pycharm": {
     "name": "#%%\n"
    }
   },
   "execution_count": null,
   "outputs": []
  },
  {
   "cell_type": "code",
   "source": [
    "# Mantenemos los datos numéricos solo para aquellos pisos que tienen imágenes \n",
    "# y las hemos obtenido\n",
    "final_data = data.iloc[good_urls, :]"
   ],
   "metadata": {
    "id": "qCeo4jRrH7z4",
    "pycharm": {
     "name": "#%%\n"
    }
   },
   "execution_count": 15,
   "outputs": []
  },
  {
   "cell_type": "code",
   "source": [
    "print(final_data.shape)"
   ],
   "metadata": {
    "colab": {
     "base_uri": "https://localhost:8080/"
    },
    "id": "OQ5pKRzuJbxT",
    "outputId": "7d60408c-b7c8-4305-c3da-d295e3730935",
    "pycharm": {
     "name": "#%%\n"
    }
   },
   "execution_count": 16,
   "outputs": [
    {
     "output_type": "stream",
     "name": "stdout",
     "text": [
      "(200, 89)\n"
     ]
    }
   ]
  },
  {
   "cell_type": "code",
   "source": [
    "# Obtener las etiquetas de regresion\n",
    "y_reg = final_data['Price']"
   ],
   "metadata": {
    "id": "Xl1wIpv_H-BP",
    "pycharm": {
     "name": "#%%\n"
    }
   },
   "execution_count": 17,
   "outputs": []
  },
  {
   "cell_type": "code",
   "metadata": {
    "id": "3wnTyVd5VF_D",
    "pycharm": {
     "name": "#%%\n"
    }
   },
   "source": [
    "# guardamos las imágenes (y yo os recomiendo que os lo guardéis en GDrive para evitar tener que repetir esto)\n",
    "np.save('images.npy', images)\n",
    "np.save('final_data.npy', final_data)\n"
   ],
   "execution_count": 18,
   "outputs": []
  },
  {
   "cell_type": "code",
   "metadata": {
    "id": "umtul7JADv7y",
    "colab": {
     "base_uri": "https://localhost:8080/"
    },
    "outputId": "8989dcbd-1db3-48f8-9cb4-797b29af0d7e",
    "pycharm": {
     "name": "#%%\n"
    }
   },
   "source": [
    "# montamos GDrive\n",
    "from google.colab import drive\n",
    "drive.mount('/content/drive')"
   ],
   "execution_count": 19,
   "outputs": [
    {
     "output_type": "stream",
     "name": "stdout",
     "text": [
      "Mounted at /content/drive\n"
     ]
    }
   ]
  },
  {
   "cell_type": "code",
   "metadata": {
    "id": "qxrlXC0mDzMh",
    "pycharm": {
     "name": "#%%\n"
    }
   },
   "source": [
    "# almacenamos las imagenes en nuestro drive\n",
    "!cp images.npy /content/drive/My\\ Drive/images.npy\n",
    "!cp final_data.npy /content/drive/My\\ Drive/final_data.npy"
   ],
   "execution_count": 22,
   "outputs": []
  },
  {
   "cell_type": "code",
   "metadata": {
    "id": "PhgtsVsXMJrn",
    "colab": {
     "base_uri": "https://localhost:8080/"
    },
    "outputId": "086d5176-bd89-4a72-9568-07a3bfeb1afa",
    "pycharm": {
     "name": "#%%\n"
    }
   },
   "source": [
    "!ls -lah images.npy final_data.npy"
   ],
   "execution_count": 23,
   "outputs": [
    {
     "output_type": "stream",
     "name": "stdout",
     "text": [
      "-rw-r--r-- 1 root root 821K Feb  2 12:44 final_data.npy\n",
      "-rw-r--r-- 1 root root  29M Feb  2 12:44 images.npy\n"
     ]
    }
   ]
  },
  {
   "cell_type": "code",
   "source": [
    "# Obtener las etiquetas de regresion\n",
    "y_reg = final_data['Price']"
   ],
   "metadata": {
    "id": "kIthtXg-Ki4L",
    "pycharm": {
     "name": "#%%\n"
    }
   },
   "execution_count": 24,
   "outputs": []
  },
  {
   "cell_type": "code",
   "metadata": {
    "id": "K3jNbKc3A7AH",
    "pycharm": {
     "name": "#%%\n"
    }
   },
   "source": [
    "# y un rango para clasificación (del 1 al 3 por ejemplo: barato, normal, caro)\n",
    "import matplotlib.pyplot as plt\n",
    "plt.hist(y_reg, bins=10)\n",
    "plt.show()"
   ],
   "execution_count": null,
   "outputs": []
  },
  {
   "cell_type": "code",
   "metadata": {
    "id": "1xZRyEffBPOT",
    "pycharm": {
     "name": "#%%\n"
    }
   },
   "source": [
    "y_class = []\n",
    "for x in y_reg:\n",
    "    # barato\n",
    "    if x <= 50:\n",
    "        y_class.append(0)\n",
    "    elif x <=150:\n",
    "        y_class.append(1)\n",
    "    else:\n",
    "        y_class.append(2)"
   ],
   "execution_count": 26,
   "outputs": []
  },
  {
   "cell_type": "code",
   "metadata": {
    "id": "uAVd0C9vTBIk",
    "pycharm": {
     "name": "#%%\n"
    }
   },
   "source": [
    "# veamos cómo ha quedado la distribución al convertirla a 3 clases\n",
    "plt.hist(y_class, bins=3)\n",
    "plt.show()"
   ],
   "execution_count": null,
   "outputs": []
  },
  {
   "cell_type": "markdown",
   "source": [
    "Y a partir de aqui es vuestro trabajo!!!"
   ],
   "metadata": {
    "id": "zyK-jVlfKp71",
    "pycharm": {
     "name": "#%% md\n"
    }
   }
  }
 ]
}