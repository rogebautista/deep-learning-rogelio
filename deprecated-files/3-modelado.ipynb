{
 "nbformat": 4,
 "nbformat_minor": 0,
 "metadata": {
  "colab": {
   "provenance": [],
   "authorship_tag": "ABX9TyPvMYAlvpUGmsfUxc51jRzu"
  },
  "kernelspec": {
   "name": "python3",
   "display_name": "Python 3"
  },
  "language_info": {
   "name": "python"
  }
 },
 "cells": [
  {
   "cell_type": "code",
   "source": [
    "# Nos conectamos a nuestro conjunto de datos\n",
    "\n",
    "from google.colab import drive\n",
    "drive.mount('/content/drive')"
   ],
   "metadata": {
    "colab": {
     "base_uri": "https://localhost:8080/"
    },
    "id": "LMygoZKx4gQa",
    "executionInfo": {
     "status": "ok",
     "timestamp": 1675807071727,
     "user_tz": 360,
     "elapsed": 18635,
     "user": {
      "displayName": "Rogelio Bautista",
      "userId": "09685885284832322578"
     }
    },
    "outputId": "96ce7383-ec63-4462-df15-dae7af054792",
    "pycharm": {
     "name": "#%%\n"
    }
   },
   "execution_count": 1,
   "outputs": [
    {
     "output_type": "stream",
     "name": "stdout",
     "text": [
      "Mounted at /content/drive\n"
     ]
    }
   ]
  },
  {
   "cell_type": "code",
   "execution_count": 2,
   "metadata": {
    "id": "u_CTcVQb0yIn",
    "executionInfo": {
     "status": "ok",
     "timestamp": 1675807078630,
     "user_tz": 360,
     "elapsed": 1778,
     "user": {
      "displayName": "Rogelio Bautista",
      "userId": "09685885284832322578"
     }
    },
    "pycharm": {
     "name": "#%%\n"
    }
   },
   "outputs": [],
   "source": [
    "import pandas as pd\n",
    "import numpy as np\n",
    "import seaborn as sns\n",
    "\n",
    "import matplotlib.pyplot as plt\n",
    "from matplotlib.colors import ListedColormap\n",
    "%matplotlib inline\n",
    "\n",
    "cm = plt.cm.RdBu\n",
    "cm_bright = ListedColormap(['#FF0000', '#0000FF'])"
   ]
  },
  {
   "cell_type": "code",
   "source": [
    "# Abrimos nuestro dataset de train para prepararlo\n",
    "df_train = pd.read_csv('./drive/MyDrive/deep-learning-rogelio/train_data.csv', sep=';', decimal='.')\n",
    "df_train.head()"
   ],
   "metadata": {
    "colab": {
     "base_uri": "https://localhost:8080/",
     "height": 314
    },
    "id": "LD69gXlV4eYV",
    "executionInfo": {
     "status": "ok",
     "timestamp": 1675811027491,
     "user_tz": 360,
     "elapsed": 843,
     "user": {
      "displayName": "Rogelio Bautista",
      "userId": "09685885284832322578"
     }
    },
    "outputId": "00258631-b9fc-45d7-db28-681cb6cf61de",
    "pycharm": {
     "name": "#%%\n"
    }
   },
   "execution_count": 12,
   "outputs": [
    {
     "output_type": "execute_result",
     "data": {
      "text/plain": [
       "   Host Listings Count  Host Total Listings Count  Accommodates  Bathrooms  \\\n",
       "0                  2.0                        2.0           2.0        1.0   \n",
       "1                  9.0                        9.0           2.0        2.0   \n",
       "2                  1.0                        1.0           2.0        1.0   \n",
       "3                  1.0                        1.0           8.0        3.5   \n",
       "4                  1.0                        1.0           2.0        1.0   \n",
       "\n",
       "   Bedrooms  Beds  Price  Weekly Price  Monthly Price  Security Deposit  ...  \\\n",
       "0       1.0   1.0   23.0         131.0          592.0             120.0  ...   \n",
       "1       1.0   1.0   30.0         232.0          659.0             111.0  ...   \n",
       "2       1.0   1.0   33.0         185.0          740.0             111.0  ...   \n",
       "3       4.0   6.0  180.0         591.8         3272.0             276.0  ...   \n",
       "4       1.0   2.0   27.0         134.0          522.6             122.0  ...   \n",
       "\n",
       "   Extra People  Availability 365  Review Scores Rating  \\\n",
       "0          10.0              72.0                  93.0   \n",
       "1           0.0              91.0                  91.0   \n",
       "2           0.0             248.0                  98.0   \n",
       "3           0.0              18.0                  91.0   \n",
       "4          19.0             311.0                  84.0   \n",
       "\n",
       "   Review Scores Accuracy  Review Scores Cleanliness  Review Scores Location  \\\n",
       "0                     9.0                        9.0                     9.0   \n",
       "1                    10.0                        9.0                    10.0   \n",
       "2                    10.0                       10.0                    10.0   \n",
       "3                     9.0                        9.0                     9.0   \n",
       "4                     8.0                        9.0                     9.0   \n",
       "\n",
       "   Calculated host listings count  Host Since in Days  Entire home/apt  \\\n",
       "0                             2.0               153.0              0.0   \n",
       "1                             9.0              2028.0              0.0   \n",
       "2                             1.0              1367.0              0.0   \n",
       "3                             1.0              1099.0              1.0   \n",
       "4                             1.0               272.0              0.0   \n",
       "\n",
       "   Private room  \n",
       "0           1.0  \n",
       "1           1.0  \n",
       "2           1.0  \n",
       "3           0.0  \n",
       "4           1.0  \n",
       "\n",
       "[5 rows x 22 columns]"
      ],
      "text/html": [
       "\n",
       "  <div id=\"df-016263bc-30b3-41b2-bc50-8b878be6d4ab\">\n",
       "    <div class=\"colab-df-container\">\n",
       "      <div>\n",
       "<style scoped>\n",
       "    .dataframe tbody tr th:only-of-type {\n",
       "        vertical-align: middle;\n",
       "    }\n",
       "\n",
       "    .dataframe tbody tr th {\n",
       "        vertical-align: top;\n",
       "    }\n",
       "\n",
       "    .dataframe thead th {\n",
       "        text-align: right;\n",
       "    }\n",
       "</style>\n",
       "<table border=\"1\" class=\"dataframe\">\n",
       "  <thead>\n",
       "    <tr style=\"text-align: right;\">\n",
       "      <th></th>\n",
       "      <th>Host Listings Count</th>\n",
       "      <th>Host Total Listings Count</th>\n",
       "      <th>Accommodates</th>\n",
       "      <th>Bathrooms</th>\n",
       "      <th>Bedrooms</th>\n",
       "      <th>Beds</th>\n",
       "      <th>Price</th>\n",
       "      <th>Weekly Price</th>\n",
       "      <th>Monthly Price</th>\n",
       "      <th>Security Deposit</th>\n",
       "      <th>...</th>\n",
       "      <th>Extra People</th>\n",
       "      <th>Availability 365</th>\n",
       "      <th>Review Scores Rating</th>\n",
       "      <th>Review Scores Accuracy</th>\n",
       "      <th>Review Scores Cleanliness</th>\n",
       "      <th>Review Scores Location</th>\n",
       "      <th>Calculated host listings count</th>\n",
       "      <th>Host Since in Days</th>\n",
       "      <th>Entire home/apt</th>\n",
       "      <th>Private room</th>\n",
       "    </tr>\n",
       "  </thead>\n",
       "  <tbody>\n",
       "    <tr>\n",
       "      <th>0</th>\n",
       "      <td>2.0</td>\n",
       "      <td>2.0</td>\n",
       "      <td>2.0</td>\n",
       "      <td>1.0</td>\n",
       "      <td>1.0</td>\n",
       "      <td>1.0</td>\n",
       "      <td>23.0</td>\n",
       "      <td>131.0</td>\n",
       "      <td>592.0</td>\n",
       "      <td>120.0</td>\n",
       "      <td>...</td>\n",
       "      <td>10.0</td>\n",
       "      <td>72.0</td>\n",
       "      <td>93.0</td>\n",
       "      <td>9.0</td>\n",
       "      <td>9.0</td>\n",
       "      <td>9.0</td>\n",
       "      <td>2.0</td>\n",
       "      <td>153.0</td>\n",
       "      <td>0.0</td>\n",
       "      <td>1.0</td>\n",
       "    </tr>\n",
       "    <tr>\n",
       "      <th>1</th>\n",
       "      <td>9.0</td>\n",
       "      <td>9.0</td>\n",
       "      <td>2.0</td>\n",
       "      <td>2.0</td>\n",
       "      <td>1.0</td>\n",
       "      <td>1.0</td>\n",
       "      <td>30.0</td>\n",
       "      <td>232.0</td>\n",
       "      <td>659.0</td>\n",
       "      <td>111.0</td>\n",
       "      <td>...</td>\n",
       "      <td>0.0</td>\n",
       "      <td>91.0</td>\n",
       "      <td>91.0</td>\n",
       "      <td>10.0</td>\n",
       "      <td>9.0</td>\n",
       "      <td>10.0</td>\n",
       "      <td>9.0</td>\n",
       "      <td>2028.0</td>\n",
       "      <td>0.0</td>\n",
       "      <td>1.0</td>\n",
       "    </tr>\n",
       "    <tr>\n",
       "      <th>2</th>\n",
       "      <td>1.0</td>\n",
       "      <td>1.0</td>\n",
       "      <td>2.0</td>\n",
       "      <td>1.0</td>\n",
       "      <td>1.0</td>\n",
       "      <td>1.0</td>\n",
       "      <td>33.0</td>\n",
       "      <td>185.0</td>\n",
       "      <td>740.0</td>\n",
       "      <td>111.0</td>\n",
       "      <td>...</td>\n",
       "      <td>0.0</td>\n",
       "      <td>248.0</td>\n",
       "      <td>98.0</td>\n",
       "      <td>10.0</td>\n",
       "      <td>10.0</td>\n",
       "      <td>10.0</td>\n",
       "      <td>1.0</td>\n",
       "      <td>1367.0</td>\n",
       "      <td>0.0</td>\n",
       "      <td>1.0</td>\n",
       "    </tr>\n",
       "    <tr>\n",
       "      <th>3</th>\n",
       "      <td>1.0</td>\n",
       "      <td>1.0</td>\n",
       "      <td>8.0</td>\n",
       "      <td>3.5</td>\n",
       "      <td>4.0</td>\n",
       "      <td>6.0</td>\n",
       "      <td>180.0</td>\n",
       "      <td>591.8</td>\n",
       "      <td>3272.0</td>\n",
       "      <td>276.0</td>\n",
       "      <td>...</td>\n",
       "      <td>0.0</td>\n",
       "      <td>18.0</td>\n",
       "      <td>91.0</td>\n",
       "      <td>9.0</td>\n",
       "      <td>9.0</td>\n",
       "      <td>9.0</td>\n",
       "      <td>1.0</td>\n",
       "      <td>1099.0</td>\n",
       "      <td>1.0</td>\n",
       "      <td>0.0</td>\n",
       "    </tr>\n",
       "    <tr>\n",
       "      <th>4</th>\n",
       "      <td>1.0</td>\n",
       "      <td>1.0</td>\n",
       "      <td>2.0</td>\n",
       "      <td>1.0</td>\n",
       "      <td>1.0</td>\n",
       "      <td>2.0</td>\n",
       "      <td>27.0</td>\n",
       "      <td>134.0</td>\n",
       "      <td>522.6</td>\n",
       "      <td>122.0</td>\n",
       "      <td>...</td>\n",
       "      <td>19.0</td>\n",
       "      <td>311.0</td>\n",
       "      <td>84.0</td>\n",
       "      <td>8.0</td>\n",
       "      <td>9.0</td>\n",
       "      <td>9.0</td>\n",
       "      <td>1.0</td>\n",
       "      <td>272.0</td>\n",
       "      <td>0.0</td>\n",
       "      <td>1.0</td>\n",
       "    </tr>\n",
       "  </tbody>\n",
       "</table>\n",
       "<p>5 rows × 22 columns</p>\n",
       "</div>\n",
       "      <button class=\"colab-df-convert\" onclick=\"convertToInteractive('df-016263bc-30b3-41b2-bc50-8b878be6d4ab')\"\n",
       "              title=\"Convert this dataframe to an interactive table.\"\n",
       "              style=\"display:none;\">\n",
       "        \n",
       "  <svg xmlns=\"http://www.w3.org/2000/svg\" height=\"24px\"viewBox=\"0 0 24 24\"\n",
       "       width=\"24px\">\n",
       "    <path d=\"M0 0h24v24H0V0z\" fill=\"none\"/>\n",
       "    <path d=\"M18.56 5.44l.94 2.06.94-2.06 2.06-.94-2.06-.94-.94-2.06-.94 2.06-2.06.94zm-11 1L8.5 8.5l.94-2.06 2.06-.94-2.06-.94L8.5 2.5l-.94 2.06-2.06.94zm10 10l.94 2.06.94-2.06 2.06-.94-2.06-.94-.94-2.06-.94 2.06-2.06.94z\"/><path d=\"M17.41 7.96l-1.37-1.37c-.4-.4-.92-.59-1.43-.59-.52 0-1.04.2-1.43.59L10.3 9.45l-7.72 7.72c-.78.78-.78 2.05 0 2.83L4 21.41c.39.39.9.59 1.41.59.51 0 1.02-.2 1.41-.59l7.78-7.78 2.81-2.81c.8-.78.8-2.07 0-2.86zM5.41 20L4 18.59l7.72-7.72 1.47 1.35L5.41 20z\"/>\n",
       "  </svg>\n",
       "      </button>\n",
       "      \n",
       "  <style>\n",
       "    .colab-df-container {\n",
       "      display:flex;\n",
       "      flex-wrap:wrap;\n",
       "      gap: 12px;\n",
       "    }\n",
       "\n",
       "    .colab-df-convert {\n",
       "      background-color: #E8F0FE;\n",
       "      border: none;\n",
       "      border-radius: 50%;\n",
       "      cursor: pointer;\n",
       "      display: none;\n",
       "      fill: #1967D2;\n",
       "      height: 32px;\n",
       "      padding: 0 0 0 0;\n",
       "      width: 32px;\n",
       "    }\n",
       "\n",
       "    .colab-df-convert:hover {\n",
       "      background-color: #E2EBFA;\n",
       "      box-shadow: 0px 1px 2px rgba(60, 64, 67, 0.3), 0px 1px 3px 1px rgba(60, 64, 67, 0.15);\n",
       "      fill: #174EA6;\n",
       "    }\n",
       "\n",
       "    [theme=dark] .colab-df-convert {\n",
       "      background-color: #3B4455;\n",
       "      fill: #D2E3FC;\n",
       "    }\n",
       "\n",
       "    [theme=dark] .colab-df-convert:hover {\n",
       "      background-color: #434B5C;\n",
       "      box-shadow: 0px 1px 3px 1px rgba(0, 0, 0, 0.15);\n",
       "      filter: drop-shadow(0px 1px 2px rgba(0, 0, 0, 0.3));\n",
       "      fill: #FFFFFF;\n",
       "    }\n",
       "  </style>\n",
       "\n",
       "      <script>\n",
       "        const buttonEl =\n",
       "          document.querySelector('#df-016263bc-30b3-41b2-bc50-8b878be6d4ab button.colab-df-convert');\n",
       "        buttonEl.style.display =\n",
       "          google.colab.kernel.accessAllowed ? 'block' : 'none';\n",
       "\n",
       "        async function convertToInteractive(key) {\n",
       "          const element = document.querySelector('#df-016263bc-30b3-41b2-bc50-8b878be6d4ab');\n",
       "          const dataTable =\n",
       "            await google.colab.kernel.invokeFunction('convertToInteractive',\n",
       "                                                     [key], {});\n",
       "          if (!dataTable) return;\n",
       "\n",
       "          const docLinkHtml = 'Like what you see? Visit the ' +\n",
       "            '<a target=\"_blank\" href=https://colab.research.google.com/notebooks/data_table.ipynb>data table notebook</a>'\n",
       "            + ' to learn more about interactive tables.';\n",
       "          element.innerHTML = '';\n",
       "          dataTable['output_type'] = 'display_data';\n",
       "          await google.colab.output.renderOutput(dataTable, element);\n",
       "          const docLink = document.createElement('div');\n",
       "          docLink.innerHTML = docLinkHtml;\n",
       "          element.appendChild(docLink);\n",
       "        }\n",
       "      </script>\n",
       "    </div>\n",
       "  </div>\n",
       "  "
      ]
     },
     "metadata": {},
     "execution_count": 12
    }
   ]
  },
  {
   "cell_type": "code",
   "source": [
    "# Vamos a abrir las imágenes\n",
    "trainImagesX = np.load(\"./drive/MyDrive/deep-learning-rogelio/trainImagesX.npy\")\n",
    "# Ok porque la reconstruiccion nos dejo sin una fila con valores vamos a mochar una de este\n",
    "trainImagesX.shape"
   ],
   "metadata": {
    "colab": {
     "base_uri": "https://localhost:8080/"
    },
    "id": "MB4ARwZ3-vmH",
    "executionInfo": {
     "status": "ok",
     "timestamp": 1675811066567,
     "user_tz": 360,
     "elapsed": 265,
     "user": {
      "displayName": "Rogelio Bautista",
      "userId": "09685885284832322578"
     }
    },
    "outputId": "18c93999-f937-4aaa-a12d-84c6a011c412",
    "pycharm": {
     "name": "#%%\n"
    }
   },
   "execution_count": 14,
   "outputs": [
    {
     "output_type": "execute_result",
     "data": {
      "text/plain": [
       "(750, 224, 224, 3)"
      ]
     },
     "metadata": {},
     "execution_count": 14
    }
   ]
  },
  {
   "cell_type": "markdown",
   "source": [
    "# Aqui nos quedamos"
   ],
   "metadata": {
    "id": "e4iF0EHTINSu",
    "pycharm": {
     "name": "#%% md\n"
    }
   }
  },
  {
   "cell_type": "code",
   "source": [
    "# dividimos train integrando la validación\n",
    "from sklearn.model_selection import train_test_split\n",
    "\n",
    "Y_train = df_train['Price'].values\n",
    "X_train = df_train.drop(['Price'], axis=1).values\n",
    "# split = train_test_split(data_transform, images, test_size=0.25, random_state=42)\n",
    "X_train, X_val, Y_train, Y_val = train_test_split(X_train, Y_train, test_size=0.15, random_state=42)"
   ],
   "metadata": {
    "id": "ANu8tBJx43W7",
    "executionInfo": {
     "status": "ok",
     "timestamp": 1675808186522,
     "user_tz": 360,
     "elapsed": 377,
     "user": {
      "displayName": "Rogelio Bautista",
      "userId": "09685885284832322578"
     }
    },
    "pycharm": {
     "name": "#%%\n"
    }
   },
   "execution_count": 5,
   "outputs": []
  },
  {
   "cell_type": "code",
   "source": [
    "from sklearn import preprocessing\n",
    "scaler = preprocessing.StandardScaler().fit(X_train)\n",
    "XtrainScaled = scaler.transform(X_train)\n",
    "XvalScaled  = scaler.transform(X_val)"
   ],
   "metadata": {
    "id": "Q-51KU8C8qyV",
    "executionInfo": {
     "status": "ok",
     "timestamp": 1675808640587,
     "user_tz": 360,
     "elapsed": 394,
     "user": {
      "displayName": "Rogelio Bautista",
      "userId": "09685885284832322578"
     }
    },
    "pycharm": {
     "name": "#%%\n"
    }
   },
   "execution_count": 9,
   "outputs": []
  },
  {
   "cell_type": "code",
   "source": [],
   "metadata": {
    "id": "pAHu-f0i8_ct",
    "pycharm": {
     "name": "#%%\n"
    }
   },
   "execution_count": null,
   "outputs": []
  }
 ]
}